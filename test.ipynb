{
 "cells": [
  {
   "cell_type": "code",
   "execution_count": 24,
   "metadata": {},
   "outputs": [],
   "source": [
    "import jax\n",
    "import jax.numpy as jnp\n",
    "\n",
    "win_length = 5\n",
    "\n",
    "ones = jnp.ones((1, win_length), dtype=jnp.int8)  # shape: (1, win_length)\n",
    "zeros = jnp.zeros((win_length-1, win_length), dtype=jnp.int8)  # shape: (win_length-1, win_length)\n",
    "\n",
    "# Create horizontal kernel\n",
    "horizontal = jnp.expand_dims(jnp.vstack([ones, zeros]), axis=(0,1))  # shape: (1, 1, win_length, win_length)\n",
    "vertical = jnp.expand_dims(jnp.vstack([ones, zeros]).T, axis=(0,1))  # shape: (1, 1, win_length, win_length)\n",
    "diagonal = jnp.expand_dims(jnp.eye(win_length, dtype=jnp.int8), axis=(0, 1))  # shape: (1, 1, win_length, win_length)\n",
    "anti_diagonal = jnp.expand_dims(jnp.fliplr(jnp.eye(win_length, dtype=jnp.int8)), axis=(0, 1))  # shape: (1, 1, win_length, win_length)\n",
    "\n",
    "# Stack all kernels\n"
   ]
  },
  {
   "cell_type": "code",
   "execution_count": 47,
   "id": "6c8d89a8",
   "metadata": {},
   "outputs": [
    {
     "name": "stdout",
     "output_type": "stream",
     "text": [
      "(1, 6, 6, 4)\n",
      "True\n"
     ]
    }
   ],
   "source": [
    "kernels = jnp.concatenate([horizontal, vertical, diagonal, anti_diagonal], axis=0)\n",
    "\n",
    "def check_winner(board, kernels):\n",
    "    \"\"\"\n",
    "    Performs convolution between the board and all kernels to check for a winning state.\n",
    "\n",
    "    Args:\n",
    "        board (jnp.ndarray): The current Gomoku board state with shape (N, H, W, C).\n",
    "        kernels (jnp.ndarray): The stacked kernels with shape (H, W, C_in, C_out).\n",
    "\n",
    "    Returns:\n",
    "        bool: True if a winning state is detected, False otherwise.\n",
    "    \"\"\"\n",
    "    # Perform convolution\n",
    "    conv_result = jax.lax.conv_general_dilated(\n",
    "        lhs=board,\n",
    "        rhs=kernels,\n",
    "        window_strides=(1, 1),\n",
    "        padding='VALID',\n",
    "        dimension_numbers=('NHWC', 'HWIO', 'NHWC')\n",
    "    )\n",
    "    print(conv_result.shape)\n",
    "    \n",
    "    conv_result = conv_result.transpose(0,3,1,2)\n",
    "    # Check if any convolution result equals 5 or -5\n",
    "    winner = jnp.any((conv_result == 5) | (conv_result == -5))\n",
    "    \n",
    "    return bool(winner)\n",
    "\n",
    "# Initialize the board\n",
    "board = jnp.array([\n",
    "    [0, 0, 0, 1, 1],\n",
    "    [0, 1, 1, 1, 0],\n",
    "    [1, 0, 1, 1, 0],\n",
    "    [0, 1, 1, 1, 0],\n",
    "    [1, 0, 0, 0, 1]\n",
    "],dtype=jnp.int8)  # Shape: (5, 5)\n",
    "board = jnp.pad(board,pad_width=((0,5),(0,5)),mode='constant',constant_values=0)\n",
    "\n",
    "# Reshape the board to match the expected dimensions (N, H, W, C)\n",
    "board = board.reshape(1, 10, 10, 1)  # Shape: (1, 5, 5, 1)\n",
    "\n",
    "# Reshape kernels to match the expected dimensions (H, W, C_in, C_out)\n",
    "kernels = kernels.transpose(2, 3,1,0)  # Shape: (5, 5, 1, 4)\n",
    "print(check_winner(board, kernels))\n",
    "board=board.squeeze(axis=3)\n",
    "kernels=kernels.squeeze(axis=2)\n",
    "\n"
   ]
  },
  {
   "cell_type": "code",
   "execution_count": 35,
   "id": "85d97a53",
   "metadata": {},
   "outputs": [
    {
     "name": "stdout",
     "output_type": "stream",
     "text": [
      "(1, 10, 10)\n",
      "(5, 5, 4)\n"
     ]
    }
   ],
   "source": [
    "print(board.shape)\n",
    "print(kernels.shape)"
   ]
  },
  {
   "cell_type": "code",
   "execution_count": 36,
   "id": "2c33454c",
   "metadata": {},
   "outputs": [
    {
     "name": "stdout",
     "output_type": "stream",
     "text": [
      "87\n"
     ]
    }
   ],
   "source": [
    "def get_valid_actions(board):\n",
    "    return board == 0\n",
    "\n",
    "print(get_valid_actions(board))"
   ]
  },
  {
   "cell_type": "code",
   "execution_count": 46,
   "id": "a1f4ea0a",
   "metadata": {},
   "outputs": [
    {
     "name": "stdout",
     "output_type": "stream",
     "text": [
      "(1, 10, 1, 10, 1)\n"
     ]
    }
   ],
   "source": [
    "from jax import random\n",
    "arr = random.normal(random.PRNGKey(0), shape=(10,10))\n",
    "\n",
    "print(arr[None,:,None,:,None].shape)"
   ]
  },
  {
   "cell_type": "code",
   "execution_count": 48,
   "id": "c111d387",
   "metadata": {},
   "outputs": [],
   "source": [
    "\n",
    "class GomokuEnv:\n",
    "    def __init__(self, board_size=15, num_envs=1, device=jax.devices('cpu')[0]):\n",
    "        \"\"\"\n",
    "        Initializes the Gomoku environment.\n",
    "\n",
    "        Args:\n",
    "            board_size (int): Size of the game board (default is 15).\n",
    "            num_envs (int): Number of parallel environments (default is 1).\n",
    "            device: JAX device to run the computations on.\n",
    "        \"\"\"\n",
    "        self.board_size = board_size\n",
    "        self.num_envs = num_envs\n",
    "        self.device = device\n",
    "        self.win_length = 5\n",
    "        self.board = jnp.zeros((num_envs,board_size+self.win_length-1, board_size+self.win_length-1), dtype=jnp.int8, device=device) #shape: (num_envs, board_size, board_size)\n",
    "        #extra 0s for convolution\n",
    "\n",
    "        self.current_player = jnp.ones((num_envs,), dtype=jnp.int8, device=device) #shape: (num_envs,) 1 for black, -1 for white\n",
    "        self.game_over = jnp.zeros((num_envs,), dtype=bool, device=device) #shape: (num_envs,)\n",
    "\n",
    "        # Initialize kernels for win detection\n",
    "        self.kernels = self._create_kernels()\n",
    "\n",
    "    def to(self,device=jax.devices('cpu')[0]):\n",
    "        \"\"\"\n",
    "        Moves the environment to a different device.\n",
    "\n",
    "        Args:\n",
    "            device: JAX device to move the environment to.\n",
    "\n",
    "        Returns:\n",
    "            The environment object itself.\n",
    "        \"\"\"\n",
    "        self.device = device\n",
    "        self.board = self.board.to(device)\n",
    "        self.current_player = self.current_player.to(device)\n",
    "        self.game_over = self.game_over.to(device)\n",
    "        self.kernels = self.kernels.to(device)\n",
    "        return self\n",
    "\n",
    "    def _create_kernels(self):\n",
    "        \"\"\"\n",
    "        Creates kernels for horizontal, vertical, diagonal, and anti-diagonal win detection.\n",
    "\n",
    "        Returns:\n",
    "            jnp.ndarray: A tensor of shape (4, 1, 5, 5) containing the kernels.\n",
    "        \"\"\"\n",
    "        ones = jnp.ones((1, self.win_length), dtype=jnp.int8)  # shape: (1, win_length)\n",
    "        zeros = jnp.zeros((self.win_length-1, self.win_length), dtype=jnp.int8)  # shape: (win_length-1, win_length)\n",
    "\n",
    "        horizontal = jnp.expand_dims(jnp.vstack([ones, zeros]), axis=(0,1))  # shape: (1, 1, win_length, win_length)\n",
    "        vertical = jnp.expand_dims(jnp.vstack([ones, zeros]).T, axis=(0,1))  # shape: (1, 1, win_length, win_length)\n",
    "        diagonal = jnp.expand_dims(jnp.eye(self.win_length, dtype=jnp.int8), axis=(0, 1))  # shape: (1, 1, win_length, win_length)\n",
    "        anti_diagonal = jnp.expand_dims(jnp.fliplr(jnp.eye(self.win_length, dtype=jnp.int8)), axis=(0, 1))  # shape: (1, 1, win_length, win_length)\n",
    "\n",
    "        # Stack all kernels\n",
    "        kernels = jnp.concatenate([horizontal, vertical, diagonal, anti_diagonal], axis=0)[jnp.newaxis,:,:,:].transpose(2,3,0,1)\n",
    "        return kernels  # Shape: (win_length, win_length, 1, 4)\n",
    "\n",
    "    def reset(self, env_indices=None):\n",
    "        \"\"\"\n",
    "        Resets the environment(s).\n",
    "\n",
    "        Args:\n",
    "            env_indices (array-like, optional): Specific environments to reset. \n",
    "                                                If None, all environments are reset.\n",
    "\n",
    "        Returns:\n",
    "            Tuple of (board, current_player, game_over) after reset.\n",
    "        \"\"\"\n",
    "        if env_indices is None:\n",
    "            self.board = jnp.zeros((self.num_envs, self.board_size, self.board_size), dtype=jnp.int8, device=self.device)\n",
    "            self.current_player = jnp.ones((self.num_envs,), dtype=jnp.int8, device=self.device)\n",
    "            self.game_over = jnp.zeros((self.num_envs,), dtype=bool, device=self.device)\n",
    "        else:\n",
    "            self.board = self.board.at[env_indices].set(\n",
    "                jnp.zeros((len(env_indices), self.board_size, self.board_size), dtype=jnp.int8, device=self.device)\n",
    "            )\n",
    "            self.current_player = self.current_player.at[env_indices].set(\n",
    "                jnp.ones((len(env_indices),), dtype=jnp.int8, device=self.device)\n",
    "            )\n",
    "            self.game_over = self.game_over.at[env_indices].set(\n",
    "                jnp.zeros((len(env_indices),), dtype=bool, device=self.device)\n",
    "            )\n",
    "        \n",
    "        return self.get_state()\n",
    "\n",
    "    def step(self, actions: jnp.ndarray):\n",
    "        \"\"\"\n",
    "        Performs a step in multiple environments by applying the given actions.\n",
    "\n",
    "        Args:\n",
    "            actions (jnp.ndarray): Array of shape (num_envs, 2) where each row is (row, col) indices \n",
    "                                   for the corresponding environment's action.\n",
    "\n",
    "        Returns:\n",
    "            Tuple of (board, current_player, game_over) after the actions.\n",
    "        \"\"\"\n",
    "        env_indices = jnp.arange(self.num_envs)\n",
    "        rows, cols = actions[:, 0], actions[:, 1]\n",
    "\n",
    "        # Ensure the actions are within the board\n",
    "        valid_bounds = (0 <= rows) & (rows < self.board_size) & (0 <= cols) & (cols < self.board_size)\n",
    "\n",
    "        # Check if the positions are already taken\n",
    "        positions = self.board[env_indices, rows, cols]\n",
    "        valid_positions = positions == 0\n",
    "\n",
    "        # Combine validity checks\n",
    "        valid_actions = valid_bounds & valid_positions & ~self.game_over\n",
    "\n",
    "        if not jnp.all(valid_actions):\n",
    "            invalid_envs = jnp.where(~valid_actions)[0]\n",
    "            raise ValueError(f\"Invalid actions in environments: {invalid_envs}\")\n",
    "\n",
    "        # Update the board\n",
    "        self.board = self.board.at[env_indices, rows, cols].set(self.current_player)\n",
    "\n",
    "        # Check for win or draw using convolution\n",
    "        winners, dones = self.check_game_over()\n",
    "\n",
    "        # Update game_over based on winners and draws\n",
    "        self.game_over = jnp.logical_or(self.game_over, dones | winners)\n",
    "\n",
    "        # Switch players\n",
    "        self.current_player = self.current_player.at[env_indices].set(-self.current_player)\n",
    "\n",
    "        return self.get_state()\n",
    "\n",
    "    def check_game_over(self):\n",
    "        \"\"\"\n",
    "        Checks if the latest actions resulted in a win or draw.\n",
    "\n",
    "        Returns:\n",
    "            Tuple of (winners, dones) where:\n",
    "                - winners is a boolean array indicating if the current move caused a win.\n",
    "                - dones is a boolean array indicating if the game is a draw.\n",
    "        \"\"\"\n",
    "        # Prepare the board for convolution\n",
    "        # Shape: (num_envs, 1, board_size, board_size)\n",
    "        player_boards = (self.board * self.current_player[:,jnp.newaxis,jnp.newaxis]).astype(jnp.int8)[:,:,:,jnp.newaxis]\n",
    "\n",
    "        # Perform convolution\n",
    "        conv_output = lax.conv_general_dilated(\n",
    "            player_boards,\n",
    "            self.kernels,\n",
    "            window_strides=(1, 1),\n",
    "            padding='VALID',\n",
    "            dimension_numbers=('NHWC', 'HWIO', 'NHWC'),\n",
    "            feature_group_count=1\n",
    "        )  # Shape: (num_envs, board_size - 4, board_size - 4,4)\n",
    "\n",
    "        win_condition = conv_output == self.win_length\n",
    "        winners = jnp.any(win_condition, axis=(1, 2, 3))  # Shape: (num_envs,)\n",
    "\n",
    "        # Check for draw (no empty spaces left)\n",
    "        empty_spaces = jnp.any(self.board == 0, axis=(1, 2))\n",
    "        dones = ~empty_spaces\n",
    "\n",
    "        return winners, dones\n",
    "\n",
    "    def get_state(self):\n",
    "        \"\"\"\n",
    "        Retrieves the current state of the environment(s).\n",
    "\n",
    "        Returns:\n",
    "            Tuple of (board, current_player, game_over).\n",
    "        \"\"\"\n",
    "        return self.board, self.current_player, self.game_over\n"
   ]
  },
  {
   "cell_type": "code",
   "execution_count": null,
   "id": "7ab86d65",
   "metadata": {},
   "outputs": [],
   "source": [
    "game = GomokuEnv(num_envs=20)\n",
    "\n",
    "for i in range(100):\n",
    "    action_mask = game.get_action_mask()\n",
    "    "
   ]
  },
  {
   "cell_type": "code",
   "execution_count": 58,
   "id": "932027bc",
   "metadata": {},
   "outputs": [
    {
     "ename": "ConcretizationTypeError",
     "evalue": "Abstract tracer value encountered where concrete value is expected: traced array with shape int32[]\nThe size argument of jnp.nonzero must be statically specified to use jnp.nonzero within JAX transformations.\nThis BatchTracer with object id 4786570736 was created on line:\n  /var/folders/mq/0d3rt1v56wdbj_m4w08_k31rkw1mg3/T/ipykernel_34571/1746465976.py:16:14 (get_nonzero_indices)\n\nSee https://jax.readthedocs.io/en/latest/errors.html#jax.errors.ConcretizationTypeError",
     "output_type": "error",
     "traceback": [
      "\u001b[0;31m---------------------------------------------------------------------------\u001b[0m",
      "\u001b[0;31mConcretizationTypeError\u001b[0m                   Traceback (most recent call last)",
      "Cell \u001b[0;32mIn[58], line 21\u001b[0m\n\u001b[1;32m     18\u001b[0m     \u001b[38;5;28;01mreturn\u001b[39;00m jnp\u001b[38;5;241m.\u001b[39mstack([indices[\u001b[38;5;241m0\u001b[39m], indices[\u001b[38;5;241m1\u001b[39m]], axis\u001b[38;5;241m=\u001b[39m\u001b[38;5;241m1\u001b[39m)\n\u001b[1;32m     20\u001b[0m \u001b[38;5;66;03m# Apply across the N dimension\u001b[39;00m\n\u001b[0;32m---> 21\u001b[0m indices_list \u001b[38;5;241m=\u001b[39m \u001b[43mjax\u001b[49m\u001b[38;5;241;43m.\u001b[39;49m\u001b[43mvmap\u001b[49m\u001b[43m(\u001b[49m\u001b[43mget_nonzero_indices\u001b[49m\u001b[43m)\u001b[49m\u001b[43m(\u001b[49m\u001b[43marr\u001b[49m\u001b[43m)\u001b[49m\n\u001b[1;32m     23\u001b[0m \u001b[38;5;28mprint\u001b[39m(indices_list)\n\u001b[1;32m     24\u001b[0m \u001b[38;5;66;03m# For first array (N=0): array([[0, 0],  # position of 1\u001b[39;00m\n\u001b[1;32m     25\u001b[0m \u001b[38;5;66;03m#                              [1, 1],  # position of 2\u001b[39;00m\n\u001b[1;32m     26\u001b[0m \u001b[38;5;66;03m#                              [2, 2]]) # position of 3\u001b[39;00m\n\u001b[1;32m     27\u001b[0m \u001b[38;5;66;03m# For second array (N=1): array([[0, 1],  # position of 4\u001b[39;00m\n\u001b[1;32m     28\u001b[0m \u001b[38;5;66;03m#                               [1, 0],  # position of 5\u001b[39;00m\n\u001b[1;32m     29\u001b[0m \u001b[38;5;66;03m#                               [1, 2]]) # position of 6\u001b[39;00m\n",
      "    \u001b[0;31m[... skipping hidden 3 frame]\u001b[0m\n",
      "Cell \u001b[0;32mIn[58], line 16\u001b[0m, in \u001b[0;36mget_nonzero_indices\u001b[0;34m(x)\u001b[0m\n\u001b[1;32m     15\u001b[0m \u001b[38;5;28;01mdef\u001b[39;00m \u001b[38;5;21mget_nonzero_indices\u001b[39m(x):\n\u001b[0;32m---> 16\u001b[0m     indices \u001b[38;5;241m=\u001b[39m \u001b[43mjnp\u001b[49m\u001b[38;5;241;43m.\u001b[39;49m\u001b[43mwhere\u001b[49m\u001b[43m(\u001b[49m\u001b[43mx\u001b[49m\u001b[43m \u001b[49m\u001b[38;5;241;43m!=\u001b[39;49m\u001b[43m \u001b[49m\u001b[38;5;241;43m0\u001b[39;49m\u001b[43m)\u001b[49m\n\u001b[1;32m     17\u001b[0m     \u001b[38;5;66;03m# Stack the h,w coordinates\u001b[39;00m\n\u001b[1;32m     18\u001b[0m     \u001b[38;5;28;01mreturn\u001b[39;00m jnp\u001b[38;5;241m.\u001b[39mstack([indices[\u001b[38;5;241m0\u001b[39m], indices[\u001b[38;5;241m1\u001b[39m]], axis\u001b[38;5;241m=\u001b[39m\u001b[38;5;241m1\u001b[39m)\n",
      "File \u001b[0;32m~/.pyenv/versions/3.12.6/lib/python3.12/site-packages/jax/_src/numpy/lax_numpy.py:2924\u001b[0m, in \u001b[0;36mwhere\u001b[0;34m(condition, x, y, size, fill_value)\u001b[0m\n\u001b[1;32m   2922\u001b[0m \u001b[38;5;28;01mif\u001b[39;00m x \u001b[38;5;129;01mis\u001b[39;00m \u001b[38;5;28;01mNone\u001b[39;00m \u001b[38;5;129;01mand\u001b[39;00m y \u001b[38;5;129;01mis\u001b[39;00m \u001b[38;5;28;01mNone\u001b[39;00m:\n\u001b[1;32m   2923\u001b[0m   util\u001b[38;5;241m.\u001b[39mcheck_arraylike(\u001b[38;5;124m\"\u001b[39m\u001b[38;5;124mwhere\u001b[39m\u001b[38;5;124m\"\u001b[39m, condition)\n\u001b[0;32m-> 2924\u001b[0m   \u001b[38;5;28;01mreturn\u001b[39;00m \u001b[43mnonzero\u001b[49m\u001b[43m(\u001b[49m\u001b[43mcondition\u001b[49m\u001b[43m,\u001b[49m\u001b[43m \u001b[49m\u001b[43msize\u001b[49m\u001b[38;5;241;43m=\u001b[39;49m\u001b[43msize\u001b[49m\u001b[43m,\u001b[49m\u001b[43m \u001b[49m\u001b[43mfill_value\u001b[49m\u001b[38;5;241;43m=\u001b[39;49m\u001b[43mfill_value\u001b[49m\u001b[43m)\u001b[49m\n\u001b[1;32m   2925\u001b[0m \u001b[38;5;28;01melse\u001b[39;00m:\n\u001b[1;32m   2926\u001b[0m   util\u001b[38;5;241m.\u001b[39mcheck_arraylike(\u001b[38;5;124m\"\u001b[39m\u001b[38;5;124mwhere\u001b[39m\u001b[38;5;124m\"\u001b[39m, condition, x, y)\n",
      "File \u001b[0;32m~/.pyenv/versions/3.12.6/lib/python3.12/site-packages/jax/_src/numpy/lax_numpy.py:3840\u001b[0m, in \u001b[0;36mnonzero\u001b[0;34m(***failed resolving arguments***)\u001b[0m\n\u001b[1;32m   3838\u001b[0m mask \u001b[38;5;241m=\u001b[39m arr \u001b[38;5;28;01mif\u001b[39;00m arr\u001b[38;5;241m.\u001b[39mdtype \u001b[38;5;241m==\u001b[39m \u001b[38;5;28mbool\u001b[39m \u001b[38;5;28;01melse\u001b[39;00m (arr \u001b[38;5;241m!=\u001b[39m \u001b[38;5;241m0\u001b[39m)\n\u001b[1;32m   3839\u001b[0m calculated_size_ \u001b[38;5;241m=\u001b[39m mask\u001b[38;5;241m.\u001b[39msum() \u001b[38;5;28;01mif\u001b[39;00m size \u001b[38;5;129;01mis\u001b[39;00m \u001b[38;5;28;01mNone\u001b[39;00m \u001b[38;5;28;01melse\u001b[39;00m size\n\u001b[0;32m-> 3840\u001b[0m calculated_size: \u001b[38;5;28mint\u001b[39m \u001b[38;5;241m=\u001b[39m \u001b[43mcore\u001b[49m\u001b[38;5;241;43m.\u001b[39;49m\u001b[43mconcrete_dim_or_error\u001b[49m\u001b[43m(\u001b[49m\u001b[43mcalculated_size_\u001b[49m\u001b[43m,\u001b[49m\n\u001b[1;32m   3841\u001b[0m \u001b[43m  \u001b[49m\u001b[38;5;124;43m\"\u001b[39;49m\u001b[38;5;124;43mThe size argument of jnp.nonzero must be statically specified \u001b[39;49m\u001b[38;5;124;43m\"\u001b[39;49m\n\u001b[1;32m   3842\u001b[0m \u001b[43m  \u001b[49m\u001b[38;5;124;43m\"\u001b[39;49m\u001b[38;5;124;43mto use jnp.nonzero within JAX transformations.\u001b[39;49m\u001b[38;5;124;43m\"\u001b[39;49m\u001b[43m)\u001b[49m\n\u001b[1;32m   3843\u001b[0m \u001b[38;5;28;01mif\u001b[39;00m arr\u001b[38;5;241m.\u001b[39msize \u001b[38;5;241m==\u001b[39m \u001b[38;5;241m0\u001b[39m \u001b[38;5;129;01mor\u001b[39;00m calculated_size \u001b[38;5;241m==\u001b[39m \u001b[38;5;241m0\u001b[39m:\n\u001b[1;32m   3844\u001b[0m   \u001b[38;5;28;01mreturn\u001b[39;00m \u001b[38;5;28mtuple\u001b[39m(zeros(calculated_size, \u001b[38;5;28mint\u001b[39m) \u001b[38;5;28;01mfor\u001b[39;00m dim \u001b[38;5;129;01min\u001b[39;00m arr\u001b[38;5;241m.\u001b[39mshape)\n",
      "    \u001b[0;31m[... skipping hidden 1 frame]\u001b[0m\n",
      "File \u001b[0;32m~/.pyenv/versions/3.12.6/lib/python3.12/site-packages/jax/_src/core.py:1571\u001b[0m, in \u001b[0;36mconcrete_or_error\u001b[0;34m(force, val, context)\u001b[0m\n\u001b[1;32m   1569\u001b[0m     \u001b[38;5;28;01mreturn\u001b[39;00m force(val\u001b[38;5;241m.\u001b[39maval\u001b[38;5;241m.\u001b[39mval)\n\u001b[1;32m   1570\u001b[0m   \u001b[38;5;28;01melse\u001b[39;00m:\n\u001b[0;32m-> 1571\u001b[0m     \u001b[38;5;28;01mraise\u001b[39;00m ConcretizationTypeError(val, context)\n\u001b[1;32m   1572\u001b[0m \u001b[38;5;28;01melse\u001b[39;00m:\n\u001b[1;32m   1573\u001b[0m   \u001b[38;5;28;01mreturn\u001b[39;00m force(val)\n",
      "\u001b[0;31mConcretizationTypeError\u001b[0m: Abstract tracer value encountered where concrete value is expected: traced array with shape int32[]\nThe size argument of jnp.nonzero must be statically specified to use jnp.nonzero within JAX transformations.\nThis BatchTracer with object id 4786570736 was created on line:\n  /var/folders/mq/0d3rt1v56wdbj_m4w08_k31rkw1mg3/T/ipykernel_34571/1746465976.py:16:14 (get_nonzero_indices)\n\nSee https://jax.readthedocs.io/en/latest/errors.html#jax.errors.ConcretizationTypeError"
     ]
    }
   ],
   "source": [
    "import jax.numpy as jnp\n",
    "\n",
    "# Example boolean array\n",
    "bool_arr = jnp.array([[True, False, True, False, True],\n",
    "                      [False, True, False, True, False]])\n",
    "\n",
    "# Get indices where True\n",
    "indices = jnp.where(bool_arr)\n",
    "print(indices)  # array([0, 2, 4])\n",
    "\n",
    "# For multi-dimensional arrays:\n",
    "bool_arr_2d = jnp.array([[True, False], \n",
    "                         [False, True]])\n",
    "                         \n",
    "indices_2d = jnp.where(bool_arr_2d)\n",
    "# Returns tuple of arrays (row_indices, col_indices)\n",
    "print(indices_2d)  # (array([0, 1]), array([0, 1]))\n",
    "\n",
    "# If you want them as pairs:\n",
    "indices_pairs = jnp.stack(indices_2d, axis=1)\n",
    "print(indices_pairs)  # array([[0, 0],\n",
    "                     #        [1, 1]])"
   ]
  },
  {
   "cell_type": "code",
   "execution_count": 64,
   "id": "f6825941",
   "metadata": {},
   "outputs": [
    {
     "name": "stdout",
     "output_type": "stream",
     "text": [
      "0 0 0\n",
      "0 0 1\n",
      "0 0 2\n",
      "0 0 4\n",
      "0 1 1\n",
      "0 1 2\n",
      "0 1 3\n",
      "0 2 1\n",
      "0 2 2\n",
      "0 2 3\n",
      "0 3 3\n",
      "1 0 3\n",
      "1 1 0\n",
      "1 1 1\n",
      "1 1 2\n",
      "1 1 3\n",
      "1 2 0\n",
      "1 2 1\n",
      "1 2 2\n",
      "1 2 3\n",
      "1 2 4\n",
      "1 3 0\n",
      "1 3 1\n",
      "1 3 2\n",
      "2 0 1\n",
      "2 0 2\n",
      "2 0 4\n",
      "2 2 0\n",
      "2 3 0\n",
      "2 3 2\n",
      "2 3 4\n"
     ]
    }
   ],
   "source": [
    "from jax import random\n",
    "import jax.numpy as jnp\n",
    "\n",
    "# Method 1: Using random.bernoulli\n",
    "key = random.PRNGKey(0)  # random seed\n",
    "shape = (3, 4, 5)  # example shape\n",
    "bool_arr = random.bernoulli(key, p=0.5, shape=shape)\n",
    "# p=0.5 means equal probability of True/False\n",
    "\n",
    "row_indices,col_indices = [jnp.where(bool_arr[i])[0] for i in range(3)]"
   ]
  },
  {
   "cell_type": "code",
   "execution_count": 2,
   "id": "83b0dac3",
   "metadata": {},
   "outputs": [
    {
     "name": "stdout",
     "output_type": "stream",
     "text": [
      "[1 2 3 4 5 6 7 8]\n"
     ]
    }
   ],
   "source": [
    "import jax.numpy as jnp \n",
    "\n",
    "arr = jnp.array([4,3,2,1])\n",
    "\n",
    "print(jnp.union1d(arr,jnp.array([5,7,7,6,8])))"
   ]
  },
  {
   "cell_type": "code",
   "execution_count": 22,
   "id": "dd8b279c",
   "metadata": {},
   "outputs": [
    {
     "name": "stdout",
     "output_type": "stream",
     "text": [
      "[[[0. 0. 0.]\n",
      "  [0. 0. 0.]\n",
      "  [0. 0. 0.]]\n",
      "\n",
      " [[1. 1. 1.]\n",
      "  [1. 1. 1.]\n",
      "  [1. 1. 1.]]\n",
      "\n",
      " [[0. 0. 0.]\n",
      "  [0. 0. 0.]\n",
      "  [0. 0. 0.]]]\n"
     ]
    }
   ],
   "source": [
    "import jax.numpy as jnp\n",
    "\n",
    "arr = jnp.ones((3, 3, 3))\n",
    "# Set rows 0 and 2 of each matrix to 0\n",
    "arr = arr.at[[0,2],:,:].set(([0,0,0],[0,0,0],[0,0,0]))\n",
    "print(arr)"
   ]
  },
  {
   "cell_type": "code",
   "execution_count": 26,
   "id": "f13f99ce",
   "metadata": {},
   "outputs": [
    {
     "name": "stdout",
     "output_type": "stream",
     "text": [
      "[0 1 1 0 0 1 0 1 0]\n"
     ]
    }
   ],
   "source": [
    "import jax.numpy as jnp\n",
    "\n",
    "arr = jnp.array([0, 1, 0, 1, 0, 1, 0, 1, 0])\n",
    "\n",
    "set_idx = jnp.array([2, 3, 5, 7])  # Convert to JAX array\n",
    "set_val = jnp.array([1, 0, 1, 1])  # Convert to JAX array\n",
    "\n",
    "arr = arr.at[set_idx].set(set_val)\n",
    "\n",
    "print(arr)\n"
   ]
  },
  {
   "cell_type": "code",
   "execution_count": 29,
   "id": "3b83f370",
   "metadata": {},
   "outputs": [
    {
     "data": {
      "text/plain": [
       "(Array([0, 2, 4], dtype=int32),)"
      ]
     },
     "execution_count": 29,
     "metadata": {},
     "output_type": "execute_result"
    }
   ],
   "source": [
    "jnp.nonzero(jnp.arraY([True,False,True,False,True]))"
   ]
  },
  {
   "cell_type": "code",
   "execution_count": 37,
   "id": "ec84f357",
   "metadata": {},
   "outputs": [
    {
     "name": "stdout",
     "output_type": "stream",
     "text": [
      "(1, 1, 5, 5)\n",
      "(1, 1, 5, 5)\n",
      "(1, 1, 5, 5)\n",
      "(1, 1, 5, 5)\n",
      "(5, 5, 4, 1)\n"
     ]
    }
   ],
   "source": [
    "win_length = 5\n",
    "ones = jnp.ones((1, win_length), dtype=jnp.int8)  # shape: (1, win_length)\n",
    "zeros = jnp.zeros((win_length-1, win_length), dtype=jnp.int8)  # shape: (win_length-1, win_length)\n",
    "\n",
    "\n",
    "horizontal = jnp.expand_dims(jnp.vstack([ones, zeros]), axis=(0,1))  # shape: (1, 1, win_length, win_length)\n",
    "vertical = jnp.expand_dims(jnp.vstack([ones, zeros]).T, axis=(0,1))  # shape: (1, 1, win_length, win_length)\n",
    "diagonal = jnp.expand_dims(jnp.eye(win_length, dtype=jnp.int8), axis=(0, 1))  # shape: (1, 1, win_length, win_length)\n",
    "anti_diagonal = jnp.expand_dims(jnp.fliplr(jnp.eye(win_length, dtype=jnp.int8)), axis=(0, 1))  # shape: (1, 1, win_length, win_length)\n",
    "\n",
    "print(horizontal.shape)\n",
    "print(vertical.shape)\n",
    "print(diagonal.shape)\n",
    "print(anti_diagonal.shape)\n",
    "# Stack all kernels\n",
    "kernels = jnp.concatenate([horizontal, vertical, diagonal, anti_diagonal], axis=0).transpose(2,3,0,1)\n",
    "print(kernels.shape)\n"
   ]
  },
  {
   "cell_type": "code",
   "execution_count": null,
   "id": "dc95ff1e",
   "metadata": {},
   "outputs": [],
   "source": [
    "from flax import nnx\n",
    "import optax\n",
    "import jax\n",
    "import jax.numpy as jnp\n",
    "\n",
    "# Define a simple model with a linear layer, batch norm, dropout, and final linear output.\n",
    "class Model(nnx.Module):\n",
    "    def __init__(self, din, dmid, dout, rngs: nnx.Rngs):\n",
    "        self.linear = nnx.Linear(din, dmid, rngs=rngs)\n",
    "        self.bn = nnx.BatchNorm(dmid, rngs=rngs)\n",
    "        self.dropout = nnx.Dropout(0.2, rngs=rngs)\n",
    "        self.linear_out = nnx.Linear(dmid, dout, rngs=rngs)\n",
    "\n",
    "    def __call__(self, x):\n",
    "        x = nnx.relu(self.dropout(self.bn(self.linear(x))))\n",
    "        return self.linear_out(x)\n",
    "\n",
    "# Eagerly initialize the model and create an optimizer.\n",
    "model = Model(2, 64, 3, rngs=nnx.Rngs(0))  # Example: din=2, dmid=64, dout=3.\n",
    "optimizer = nnx.Optimizer(model, optax.adam(1e-3))  # Using Adam with a 1e-3 learning rate.\n",
    "\n",
    "# jit-decorated training step.\n",
    "@nnx.jit  # Automatic state management for JAX transforms.\n",
    "def train_step(model, optimizer, x, y):\n",
    "    def loss_fn(model):\n",
    "        y_pred = model(x)  # Forward pass.\n",
    "        # Compute mean squared error loss.\n",
    "        return ((y_pred - y) ** 2).mean()\n",
    "\n",
    "    # Compute loss and gradients with respect to the model.\n",
    "    loss, grads = nnx.value_and_grad(loss_fn)(model)\n",
    "    # Update the optimizer with the computed gradients (in-place update).\n",
    "    optimizer.update(grads)\n",
    "    return loss\n",
    "\n",
    "if __name__ == '__main__':\n",
    "    # Dummy input data (shape: [batch_size, feature_dim]) and targets (shape: [batch_size, output_dim]).\n",
    "    x = jnp.array([[1.0, 2.0],\n",
    "                   [3.0, 4.0],\n",
    "                   [5.0, 6.0]])\n",
    "    y = jnp.array([[0.5, 1.0, 1.5],\n",
    "                   [1.5, 2.0, 2.5],\n",
    "                   [2.5, 3.0, 3.5]])\n",
    "\n",
    "    num_epochs = 1000\n",
    "    for epoch in range(num_epochs):\n",
    "        loss_value = train_step(model, optimizer, x, y)\n",
    "        if epoch % 100 == 0:\n",
    "            print(f\"Epoch {epoch}, loss = {loss_value}\")\n",
    "\n",
    "    print(\"Trained model predictions:\")\n",
    "    print(model(x))"
   ]
  },
  {
   "cell_type": "code",
   "execution_count": null,
   "id": "21f1fe92",
   "metadata": {},
   "outputs": [
    {
     "ename": "TypeError",
     "evalue": "'tuple' object cannot be interpreted as an integer",
     "output_type": "error",
     "traceback": [
      "\u001b[0;31m---------------------------------------------------------------------------\u001b[0m",
      "\u001b[0;31mTypeError\u001b[0m                                 Traceback (most recent call last)",
      "Cell \u001b[0;32mIn[7], line 3\u001b[0m\n\u001b[1;32m      1\u001b[0m row \u001b[38;5;241m=\u001b[39m (\u001b[38;5;241m1\u001b[39m,\u001b[38;5;241m2\u001b[39m,\u001b[38;5;241m3\u001b[39m)\n\u001b[1;32m      2\u001b[0m col \u001b[38;5;241m=\u001b[39m (\u001b[38;5;241m4\u001b[39m,\u001b[38;5;241m5\u001b[39m,\u001b[38;5;241m6\u001b[39m)\n\u001b[0;32m----> 3\u001b[0m \u001b[43mjnp\u001b[49m\u001b[38;5;241;43m.\u001b[39;49m\u001b[43mstack\u001b[49m\u001b[43m(\u001b[49m\u001b[43mrow\u001b[49m\u001b[43m,\u001b[49m\u001b[43mcol\u001b[49m\u001b[43m)\u001b[49m,jnp\u001b[38;5;241m.\u001b[39mstack(col)\n",
      "File \u001b[0;32m~/Desktop/AlphaGo/AlphaGomoku/.venv/lib/python3.12/site-packages/jax/_src/numpy/lax_numpy.py:4610\u001b[0m, in \u001b[0;36mstack\u001b[0;34m(arrays, axis, out, dtype)\u001b[0m\n\u001b[1;32m   4608\u001b[0m util\u001b[38;5;241m.\u001b[39mcheck_arraylike(\u001b[38;5;124m\"\u001b[39m\u001b[38;5;124mstack\u001b[39m\u001b[38;5;124m\"\u001b[39m, \u001b[38;5;241m*\u001b[39marrays)\n\u001b[1;32m   4609\u001b[0m shape0 \u001b[38;5;241m=\u001b[39m shape(arrays[\u001b[38;5;241m0\u001b[39m])\n\u001b[0;32m-> 4610\u001b[0m axis \u001b[38;5;241m=\u001b[39m \u001b[43m_canonicalize_axis\u001b[49m\u001b[43m(\u001b[49m\u001b[43maxis\u001b[49m\u001b[43m,\u001b[49m\u001b[43m \u001b[49m\u001b[38;5;28;43mlen\u001b[39;49m\u001b[43m(\u001b[49m\u001b[43mshape0\u001b[49m\u001b[43m)\u001b[49m\u001b[43m \u001b[49m\u001b[38;5;241;43m+\u001b[39;49m\u001b[43m \u001b[49m\u001b[38;5;241;43m1\u001b[39;49m\u001b[43m)\u001b[49m\n\u001b[1;32m   4611\u001b[0m new_arrays \u001b[38;5;241m=\u001b[39m []\n\u001b[1;32m   4612\u001b[0m \u001b[38;5;28;01mfor\u001b[39;00m a \u001b[38;5;129;01min\u001b[39;00m arrays:\n",
      "File \u001b[0;32m~/Desktop/AlphaGo/AlphaGomoku/.venv/lib/python3.12/site-packages/jax/_src/util.py:397\u001b[0m, in \u001b[0;36mcanonicalize_axis\u001b[0;34m(axis, num_dims)\u001b[0m\n\u001b[1;32m    395\u001b[0m \u001b[38;5;28;01mdef\u001b[39;00m\u001b[38;5;250m \u001b[39m\u001b[38;5;21mcanonicalize_axis\u001b[39m(axis, num_dims) \u001b[38;5;241m-\u001b[39m\u001b[38;5;241m>\u001b[39m \u001b[38;5;28mint\u001b[39m:\n\u001b[1;32m    396\u001b[0m \u001b[38;5;250m  \u001b[39m\u001b[38;5;124;03m\"\"\"Canonicalize an axis in [-num_dims, num_dims) to [0, num_dims).\"\"\"\u001b[39;00m\n\u001b[0;32m--> 397\u001b[0m   axis \u001b[38;5;241m=\u001b[39m \u001b[43moperator\u001b[49m\u001b[38;5;241;43m.\u001b[39;49m\u001b[43mindex\u001b[49m\u001b[43m(\u001b[49m\u001b[43maxis\u001b[49m\u001b[43m)\u001b[49m\n\u001b[1;32m    398\u001b[0m   \u001b[38;5;28;01mif\u001b[39;00m \u001b[38;5;129;01mnot\u001b[39;00m \u001b[38;5;241m-\u001b[39mnum_dims \u001b[38;5;241m<\u001b[39m\u001b[38;5;241m=\u001b[39m axis \u001b[38;5;241m<\u001b[39m num_dims:\n\u001b[1;32m    399\u001b[0m     \u001b[38;5;28;01mraise\u001b[39;00m \u001b[38;5;167;01mValueError\u001b[39;00m(\u001b[38;5;124mf\u001b[39m\u001b[38;5;124m\"\u001b[39m\u001b[38;5;124maxis \u001b[39m\u001b[38;5;132;01m{\u001b[39;00maxis\u001b[38;5;132;01m}\u001b[39;00m\u001b[38;5;124m is out of bounds for array of dimension \u001b[39m\u001b[38;5;132;01m{\u001b[39;00mnum_dims\u001b[38;5;132;01m}\u001b[39;00m\u001b[38;5;124m\"\u001b[39m)\n",
      "\u001b[0;31mTypeError\u001b[0m: 'tuple' object cannot be interpreted as an integer"
     ]
    }
   ],
   "source": [
    "row = (1,2,3)\n",
    "col = (4,5,6)"
   ]
  },
  {
   "cell_type": "code",
   "execution_count": null,
   "id": "5d1ede7e",
   "metadata": {},
   "outputs": [],
   "source": []
  }
 ],
 "metadata": {
  "kernelspec": {
   "display_name": ".venv",
   "language": "python",
   "name": "python3"
  },
  "language_info": {
   "codemirror_mode": {
    "name": "ipython",
    "version": 3
   },
   "file_extension": ".py",
   "mimetype": "text/x-python",
   "name": "python",
   "nbconvert_exporter": "python",
   "pygments_lexer": "ipython3",
   "version": "3.12.8"
  }
 },
 "nbformat": 4,
 "nbformat_minor": 5
}
