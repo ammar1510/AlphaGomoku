{
 "cells": [
  {
   "cell_type": "code",
   "execution_count": 22,
   "metadata": {},
   "outputs": [
    {
     "name": "stdout",
     "output_type": "stream",
     "text": [
      "[CpuDevice(id=0), CpuDevice(id=1), CpuDevice(id=2), CpuDevice(id=3), CpuDevice(id=4), CpuDevice(id=5), CpuDevice(id=6), CpuDevice(id=7)]\n"
     ]
    }
   ],
   "source": [
    "import os\n",
    "os.environ['XLA_FLAGS'] = '--xla_force_host_platform_device_count=8'\n",
    "print(jax.devices())"
   ]
  },
  {
   "cell_type": "code",
   "execution_count": 11,
   "metadata": {},
   "outputs": [],
   "source": [
    "import jax\n",
    "import jax.numpy as jnp\n",
    "from jax import shard_map\n",
    "from jax.sharding import Mesh, PartitionSpec as PS, NamedSharding\n",
    "from typing import Optional\n",
    "from functools import partial"
   ]
  },
  {
   "cell_type": "code",
   "execution_count": 5,
   "metadata": {},
   "outputs": [],
   "source": [
    "mesh = jax.make_mesh((4, 2), ('x', 'y'))"
   ]
  },
  {
   "cell_type": "code",
   "execution_count": 15,
   "metadata": {},
   "outputs": [],
   "source": [
    "a = jnp.arange(8*16).reshape(8,16)\n",
    "b = jnp.arange(16*4).reshape(16,4)\n"
   ]
  },
  {
   "cell_type": "code",
   "execution_count": 21,
   "metadata": {},
   "outputs": [
    {
     "data": {
      "text/html": [
       "<pre style=\"white-space:pre;overflow-x:auto;line-height:normal;font-family:Menlo,'DejaVu Sans Mono',consolas,'Courier New',monospace\"><span style=\"color: #ffffff; text-decoration-color: #ffffff; background-color: #393b79\">                                                  </span>\n",
       "<span style=\"color: #ffffff; text-decoration-color: #ffffff; background-color: #393b79\">                                                  </span>\n",
       "<span style=\"color: #ffffff; text-decoration-color: #ffffff; background-color: #393b79\">                                                  </span>\n",
       "<span style=\"color: #ffffff; text-decoration-color: #ffffff; background-color: #393b79\">                                                  </span>\n",
       "<span style=\"color: #ffffff; text-decoration-color: #ffffff; background-color: #393b79\">                                                  </span>\n",
       "<span style=\"color: #ffffff; text-decoration-color: #ffffff; background-color: #393b79\">                      CPU 0                       </span>\n",
       "<span style=\"color: #ffffff; text-decoration-color: #ffffff; background-color: #393b79\">                                                  </span>\n",
       "<span style=\"color: #ffffff; text-decoration-color: #ffffff; background-color: #393b79\">                                                  </span>\n",
       "<span style=\"color: #ffffff; text-decoration-color: #ffffff; background-color: #393b79\">                                                  </span>\n",
       "<span style=\"color: #ffffff; text-decoration-color: #ffffff; background-color: #393b79\">                                                  </span>\n",
       "<span style=\"color: #ffffff; text-decoration-color: #ffffff; background-color: #393b79\">                                                  </span>\n",
       "</pre>\n"
      ],
      "text/plain": [
       "\u001b[38;2;255;255;255;48;2;57;59;121m                                                  \u001b[0m\n",
       "\u001b[38;2;255;255;255;48;2;57;59;121m                                                  \u001b[0m\n",
       "\u001b[38;2;255;255;255;48;2;57;59;121m                                                  \u001b[0m\n",
       "\u001b[38;2;255;255;255;48;2;57;59;121m                                                  \u001b[0m\n",
       "\u001b[38;2;255;255;255;48;2;57;59;121m                                                  \u001b[0m\n",
       "\u001b[38;2;255;255;255;48;2;57;59;121m                      \u001b[0m\u001b[38;2;255;255;255;48;2;57;59;121mCPU 0\u001b[0m\u001b[38;2;255;255;255;48;2;57;59;121m                       \u001b[0m\n",
       "\u001b[38;2;255;255;255;48;2;57;59;121m                                                  \u001b[0m\n",
       "\u001b[38;2;255;255;255;48;2;57;59;121m                                                  \u001b[0m\n",
       "\u001b[38;2;255;255;255;48;2;57;59;121m                                                  \u001b[0m\n",
       "\u001b[38;2;255;255;255;48;2;57;59;121m                                                  \u001b[0m\n",
       "\u001b[38;2;255;255;255;48;2;57;59;121m                                                  \u001b[0m\n"
      ]
     },
     "metadata": {},
     "output_type": "display_data"
    },
    {
     "data": {
      "text/html": [
       "<pre style=\"white-space:pre;overflow-x:auto;line-height:normal;font-family:Menlo,'DejaVu Sans Mono',consolas,'Courier New',monospace\"><span style=\"color: #ffffff; text-decoration-color: #ffffff; background-color: #393b79\">         </span>\n",
       "<span style=\"color: #ffffff; text-decoration-color: #ffffff; background-color: #393b79\">         </span>\n",
       "<span style=\"color: #ffffff; text-decoration-color: #ffffff; background-color: #393b79\">         </span>\n",
       "<span style=\"color: #ffffff; text-decoration-color: #ffffff; background-color: #393b79\">         </span>\n",
       "<span style=\"color: #ffffff; text-decoration-color: #ffffff; background-color: #393b79\">         </span>\n",
       "<span style=\"color: #ffffff; text-decoration-color: #ffffff; background-color: #393b79\">  CPU 0  </span>\n",
       "<span style=\"color: #ffffff; text-decoration-color: #ffffff; background-color: #393b79\">         </span>\n",
       "<span style=\"color: #ffffff; text-decoration-color: #ffffff; background-color: #393b79\">         </span>\n",
       "<span style=\"color: #ffffff; text-decoration-color: #ffffff; background-color: #393b79\">         </span>\n",
       "<span style=\"color: #ffffff; text-decoration-color: #ffffff; background-color: #393b79\">         </span>\n",
       "<span style=\"color: #ffffff; text-decoration-color: #ffffff; background-color: #393b79\">         </span>\n",
       "</pre>\n"
      ],
      "text/plain": [
       "\u001b[38;2;255;255;255;48;2;57;59;121m         \u001b[0m\n",
       "\u001b[38;2;255;255;255;48;2;57;59;121m         \u001b[0m\n",
       "\u001b[38;2;255;255;255;48;2;57;59;121m         \u001b[0m\n",
       "\u001b[38;2;255;255;255;48;2;57;59;121m         \u001b[0m\n",
       "\u001b[38;2;255;255;255;48;2;57;59;121m         \u001b[0m\n",
       "\u001b[38;2;255;255;255;48;2;57;59;121m  \u001b[0m\u001b[38;2;255;255;255;48;2;57;59;121mCPU 0\u001b[0m\u001b[38;2;255;255;255;48;2;57;59;121m  \u001b[0m\n",
       "\u001b[38;2;255;255;255;48;2;57;59;121m         \u001b[0m\n",
       "\u001b[38;2;255;255;255;48;2;57;59;121m         \u001b[0m\n",
       "\u001b[38;2;255;255;255;48;2;57;59;121m         \u001b[0m\n",
       "\u001b[38;2;255;255;255;48;2;57;59;121m         \u001b[0m\n",
       "\u001b[38;2;255;255;255;48;2;57;59;121m         \u001b[0m\n"
      ]
     },
     "metadata": {},
     "output_type": "display_data"
    }
   ],
   "source": [
    "jax.debug.visualize_array_sharding(a)\n",
    "jax.debug.visualize_array_sharding(b)"
   ]
  },
  {
   "cell_type": "code",
   "execution_count": 27,
   "metadata": {},
   "outputs": [],
   "source": [
    "@partial(shard_map,mesh=mesh,in_specs=(PS('x','y'),PS('y',None)),out_specs=PS('x',None))\n",
    "def matmul_basic(a_block, b_block):\n",
    "    c_partialsum = jnp.dot(a_block, b_block)\n",
    "    print(c_partialsum)\n",
    "    c_block = jax.lax.psum(c_partialsum, 'y')\n",
    "    print(c_block)\n",
    "    return c_block\n"
   ]
  },
  {
   "cell_type": "code",
   "execution_count": 28,
   "metadata": {},
   "outputs": [
    {
     "name": "stdout",
     "output_type": "stream",
     "text": [
      "On TFRT_CPU_0 at mesh coordinates (x, y,) = (0, 0):\n",
      "[[ 560  588  616  644]\n",
      " [2352 2508 2664 2820]]\n",
      "\n",
      "On TFRT_CPU_1 at mesh coordinates (x, y,) = (0, 1):\n",
      "[[ 4400  4492  4584  4676]\n",
      " [10288 10508 10728 10948]]\n",
      "\n",
      "On TFRT_CPU_2 at mesh coordinates (x, y,) = (1, 0):\n",
      "[[4144 4428 4712 4996]\n",
      " [5936 6348 6760 7172]]\n",
      "\n",
      "On TFRT_CPU_3 at mesh coordinates (x, y,) = (1, 1):\n",
      "[[16176 16524 16872 17220]\n",
      " [22064 22540 23016 23492]]\n",
      "\n",
      "On TFRT_CPU_4 at mesh coordinates (x, y,) = (2, 0):\n",
      "[[ 7728  8268  8808  9348]\n",
      " [ 9520 10188 10856 11524]]\n",
      "\n",
      "On TFRT_CPU_5 at mesh coordinates (x, y,) = (2, 1):\n",
      "[[27952 28556 29160 29764]\n",
      " [33840 34572 35304 36036]]\n",
      "\n",
      "On TFRT_CPU_6 at mesh coordinates (x, y,) = (3, 0):\n",
      "[[11312 12108 12904 13700]\n",
      " [13104 14028 14952 15876]]\n",
      "\n",
      "On TFRT_CPU_7 at mesh coordinates (x, y,) = (3, 1):\n",
      "[[39728 40588 41448 42308]\n",
      " [45616 46604 47592 48580]]\n",
      "\n",
      "On TFRT_CPU_0 at mesh coordinates (x, y,) = (0, 0):\n",
      "[[ 4960  5080  5200  5320]\n",
      " [12640 13016 13392 13768]]\n",
      "\n",
      "On TFRT_CPU_1 at mesh coordinates (x, y,) = (0, 1):\n",
      "[[ 4960  5080  5200  5320]\n",
      " [12640 13016 13392 13768]]\n",
      "\n",
      "On TFRT_CPU_2 at mesh coordinates (x, y,) = (1, 0):\n",
      "[[20320 20952 21584 22216]\n",
      " [28000 28888 29776 30664]]\n",
      "\n",
      "On TFRT_CPU_3 at mesh coordinates (x, y,) = (1, 1):\n",
      "[[20320 20952 21584 22216]\n",
      " [28000 28888 29776 30664]]\n",
      "\n",
      "On TFRT_CPU_4 at mesh coordinates (x, y,) = (2, 0):\n",
      "[[35680 36824 37968 39112]\n",
      " [43360 44760 46160 47560]]\n",
      "\n",
      "On TFRT_CPU_5 at mesh coordinates (x, y,) = (2, 1):\n",
      "[[35680 36824 37968 39112]\n",
      " [43360 44760 46160 47560]]\n",
      "\n",
      "On TFRT_CPU_6 at mesh coordinates (x, y,) = (3, 0):\n",
      "[[51040 52696 54352 56008]\n",
      " [58720 60632 62544 64456]]\n",
      "\n",
      "On TFRT_CPU_7 at mesh coordinates (x, y,) = (3, 1):\n",
      "[[51040 52696 54352 56008]\n",
      " [58720 60632 62544 64456]]\n",
      "\n"
     ]
    }
   ],
   "source": [
    "c = matmul_basic(a,b)"
   ]
  },
  {
   "cell_type": "code",
   "execution_count": 18,
   "metadata": {},
   "outputs": [
    {
     "data": {
      "text/plain": [
       "(8, 4)"
      ]
     },
     "execution_count": 18,
     "metadata": {},
     "output_type": "execute_result"
    }
   ],
   "source": [
    "c.shape"
   ]
  },
  {
   "cell_type": "code",
   "execution_count": null,
   "metadata": {},
   "outputs": [],
   "source": []
  }
 ],
 "metadata": {
  "kernelspec": {
   "display_name": ".venv",
   "language": "python",
   "name": "python3"
  },
  "language_info": {
   "codemirror_mode": {
    "name": "ipython",
    "version": 3
   },
   "file_extension": ".py",
   "mimetype": "text/x-python",
   "name": "python",
   "nbconvert_exporter": "python",
   "pygments_lexer": "ipython3",
   "version": "3.12.8"
  }
 },
 "nbformat": 4,
 "nbformat_minor": 2
}
