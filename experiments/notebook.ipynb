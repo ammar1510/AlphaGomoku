{
 "cells": [
  {
   "cell_type": "code",
   "execution_count": 2,
   "id": "06d4a2d6",
   "metadata": {},
   "outputs": [],
   "source": [
    "import jax\n",
    "import jax.numpy as jnp\n",
    "from functools import partial\n"
   ]
  },
  {
   "cell_type": "code",
   "execution_count": 17,
   "id": "8c95db33",
   "metadata": {},
   "outputs": [],
   "source": [
    "def f(x,val: int):\n",
    "    print(\"type of x\",type(x))\n",
    "    print(\"type of val\",type(val))\n",
    "    return x.sum() + val\n",
    "\n",
    "\n"
   ]
  },
  {
   "cell_type": "code",
   "execution_count": 18,
   "id": "47350c66",
   "metadata": {},
   "outputs": [],
   "source": [
    "jitted_f = jax.jit(f,static_argnames=[\"val\"])"
   ]
  },
  {
   "cell_type": "code",
   "execution_count": 19,
   "id": "56720d2a",
   "metadata": {},
   "outputs": [
    {
     "name": "stdout",
     "output_type": "stream",
     "text": [
      "type of x <class 'jax._src.interpreters.partial_eval.DynamicJaxprTracer'>\n",
      "type of val <class 'int'>\n"
     ]
    }
   ],
   "source": [
    "out = jitted_f(jnp.array([1, 2, 3]), 10)"
   ]
  },
  {
   "cell_type": "code",
   "execution_count": 22,
   "id": "f84228ea",
   "metadata": {},
   "outputs": [
    {
     "data": {
      "text/plain": [
       "16"
      ]
     },
     "execution_count": 22,
     "metadata": {},
     "output_type": "execute_result"
    }
   ],
   "source": [
    "out.item()\n"
   ]
  },
  {
   "cell_type": "code",
   "execution_count": 3,
   "id": "4c49b890",
   "metadata": {},
   "outputs": [],
   "source": [
    "rng = jax.random.PRNGKey(0)\n",
    "rng, rng_split = jax.random.split(rng)\n",
    "rng_split, rng_split_2 = jax.random.split(rng_split)\n",
    "rng_split_2, rng_split_3 = jax.random.split(rng_split_2)\n",
    "rng_split_3, rng_split_4 = jax.random.split(rng_split_3)\n",
    "rng_split_4, rng_split_5 = jax.random.split(rng_split_4)\n",
    "rng_split_5, rng_split_6 = jax.random.split(rng_split_5)"
   ]
  },
  {
   "cell_type": "code",
   "execution_count": 10,
   "id": "ed239439",
   "metadata": {},
   "outputs": [
    {
     "name": "stdout",
     "output_type": "stream",
     "text": [
      "rng is a jnp.ndarray\n"
     ]
    }
   ],
   "source": [
    "if isinstance(rng, jnp.ndarray):\n",
    "    print(\"rng is a jnp.ndarray\")\n",
    "else:\n",
    "    print(\"rng is not a jnp.ndarray\")\n",
    "\n"
   ]
  },
  {
   "cell_type": "code",
   "execution_count": 11,
   "id": "bc1b3ae1",
   "metadata": {},
   "outputs": [
    {
     "name": "stdout",
     "output_type": "stream",
     "text": [
      "<class 'jaxlib.xla_extension.ArrayImpl'>\n"
     ]
    }
   ],
   "source": [
    "print(type(rng))"
   ]
  },
  {
   "cell_type": "code",
   "execution_count": null,
   "id": "92ce6abe",
   "metadata": {},
   "outputs": [],
   "source": []
  }
 ],
 "metadata": {
  "kernelspec": {
   "display_name": ".venv",
   "language": "python",
   "name": "python3"
  },
  "language_info": {
   "codemirror_mode": {
    "name": "ipython",
    "version": 3
   },
   "file_extension": ".py",
   "mimetype": "text/x-python",
   "name": "python",
   "nbconvert_exporter": "python",
   "pygments_lexer": "ipython3",
   "version": "3.12.8"
  }
 },
 "nbformat": 4,
 "nbformat_minor": 5
}
