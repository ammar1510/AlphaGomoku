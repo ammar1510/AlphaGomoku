{
 "cells": [
  {
   "cell_type": "code",
   "execution_count": 1,
   "id": "2f0e05af",
   "metadata": {},
   "outputs": [
    {
     "name": "stdout",
     "output_type": "stream",
     "text": [
      "(128,)\n"
     ]
    },
    {
     "name": "stderr",
     "output_type": "stream",
     "text": [
      "A.L.E: Arcade Learning Environment (version 0.10.2+c9d4b19)\n",
      "[Powered by Stella]\n"
     ]
    }
   ],
   "source": [
    "import gymnasium as gym\n",
    "import ale_py\n",
    "\n",
    "env = gym.make(\"ALE/Pong-v5\", obs_type=\"ram\")\n",
    "obs, info = env.reset()\n",
    "print(obs.shape)  # (128,)\n"
   ]
  },
  {
   "cell_type": "code",
   "execution_count": 6,
   "id": "8267e54c",
   "metadata": {},
   "outputs": [
    {
     "name": "stdout",
     "output_type": "stream",
     "text": [
      "[192   0   0   0 110  38   0   7  71   1  60  59   0   0   0  62 255   0\n",
      " 255 253   0  22   0  24 128  32   1  86 247  86 247  86 247 134 243 245\n",
      " 243 240 240 242 242  32  32  64  64  64 188  65 189   0  22 109  37  37\n",
      "  60   0   0   0   0 109 109  37  37 192 192 192 192   1 192 202 247 202\n",
      " 247 202 247 202 247   0   0   0   0   0   0   0   0   0   0   0   0   0\n",
      "   0   0   0   0   0   0   0   0   0   0   0   0   0   0   0   0   0   0\n",
      "   0   0   0   0   0   0   0   0   0   0   0   0   0   0   0  54 236 242\n",
      " 121 240]\n"
     ]
    }
   ],
   "source": [
    "print((obs))"
   ]
  },
  {
   "cell_type": "code",
   "execution_count": null,
   "id": "b1d8764c",
   "metadata": {},
   "outputs": [],
   "source": [
    "import numpy as np\n",
    "\n",
    "env = gym.make(\"ALE/Pong-v5\", obs_type=\"ram\")\n",
    "obs, info = env.reset()\n",
    "\n",
    "obs_list = []\n",
    "reward_list = []\n",
    "done = False\n",
    "while not done:\n",
    "    obs, reward, terminated, truncated, info = env.step(env.action_space.sample())\n",
    "    obs_list.append(obs)\n",
    "    reward_list.append(reward)\n",
    "    done = terminated or truncated\n",
    "\n",
    "obs_array = np.array(obs_list)\n",
    "reward_array = np.array(reward_list)\n",
    "\n",
    "print(obs_array.shape)  # (100, 128)\n",
    "print(reward_array.shape)  # (100,)\n"
   ]
  }
 ],
 "metadata": {
  "kernelspec": {
   "display_name": ".venv",
   "language": "python",
   "name": "python3"
  },
  "language_info": {
   "codemirror_mode": {
    "name": "ipython",
    "version": 3
   },
   "file_extension": ".py",
   "mimetype": "text/x-python",
   "name": "python",
   "nbconvert_exporter": "python",
   "pygments_lexer": "ipython3",
   "version": "3.12.8"
  }
 },
 "nbformat": 4,
 "nbformat_minor": 5
}
