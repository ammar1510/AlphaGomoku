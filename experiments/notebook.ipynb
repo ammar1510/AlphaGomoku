{
 "cells": [
  {
   "cell_type": "code",
   "execution_count": 16,
   "id": "06d4a2d6",
   "metadata": {},
   "outputs": [],
   "source": [
    "import jax\n",
    "import jax.numpy as jnp\n",
    "from functools import partial\n"
   ]
  },
  {
   "cell_type": "code",
   "execution_count": 17,
   "id": "8c95db33",
   "metadata": {},
   "outputs": [],
   "source": [
    "def f(x,val: int):\n",
    "    print(\"type of x\",type(x))\n",
    "    print(\"type of val\",type(val))\n",
    "    return x.sum() + val\n",
    "\n",
    "\n"
   ]
  },
  {
   "cell_type": "code",
   "execution_count": 18,
   "id": "47350c66",
   "metadata": {},
   "outputs": [],
   "source": [
    "jitted_f = jax.jit(f,static_argnames=[\"val\"])"
   ]
  },
  {
   "cell_type": "code",
   "execution_count": 19,
   "id": "56720d2a",
   "metadata": {},
   "outputs": [
    {
     "name": "stdout",
     "output_type": "stream",
     "text": [
      "type of x <class 'jax._src.interpreters.partial_eval.DynamicJaxprTracer'>\n",
      "type of val <class 'int'>\n"
     ]
    }
   ],
   "source": [
    "out = jitted_f(jnp.array([1, 2, 3]), 10)"
   ]
  },
  {
   "cell_type": "code",
   "execution_count": 22,
   "id": "f84228ea",
   "metadata": {},
   "outputs": [
    {
     "data": {
      "text/plain": [
       "16"
      ]
     },
     "execution_count": 22,
     "metadata": {},
     "output_type": "execute_result"
    }
   ],
   "source": [
    "out.item()\n"
   ]
  },
  {
   "cell_type": "code",
   "execution_count": null,
   "id": "4c49b890",
   "metadata": {},
   "outputs": [],
   "source": []
  }
 ],
 "metadata": {
  "kernelspec": {
   "display_name": ".venv",
   "language": "python",
   "name": "python3"
  },
  "language_info": {
   "codemirror_mode": {
    "name": "ipython",
    "version": 3
   },
   "file_extension": ".py",
   "mimetype": "text/x-python",
   "name": "python",
   "nbconvert_exporter": "python",
   "pygments_lexer": "ipython3",
   "version": "3.12.8"
  }
 },
 "nbformat": 4,
 "nbformat_minor": 5
}
