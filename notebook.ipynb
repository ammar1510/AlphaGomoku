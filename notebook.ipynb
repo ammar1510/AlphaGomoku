{
 "cells": [
  {
   "cell_type": "code",
   "execution_count": 24,
   "metadata": {},
   "outputs": [],
   "source": [
    "import jax\n",
    "import jax.numpy as jnp\n",
    "\n",
    "win_length = 5\n",
    "\n",
    "ones = jnp.ones((1, win_length), dtype=jnp.int8)  # shape: (1, win_length)\n",
    "zeros = jnp.zeros((win_length-1, win_length), dtype=jnp.int8)  # shape: (win_length-1, win_length)\n",
    "\n",
    "# Create horizontal kernel\n",
    "horizontal = jnp.expand_dims(jnp.vstack([ones, zeros]), axis=(0,1))  # shape: (1, 1, win_length, win_length)\n",
    "vertical = jnp.expand_dims(jnp.vstack([ones, zeros]).T, axis=(0,1))  # shape: (1, 1, win_length, win_length)\n",
    "diagonal = jnp.expand_dims(jnp.eye(win_length, dtype=jnp.int8), axis=(0, 1))  # shape: (1, 1, win_length, win_length)\n",
    "anti_diagonal = jnp.expand_dims(jnp.fliplr(jnp.eye(win_length, dtype=jnp.int8)), axis=(0, 1))  # shape: (1, 1, win_length, win_length)\n",
    "\n",
    "# Stack all kernels\n"
   ]
  },
  {
   "cell_type": "code",
   "execution_count": 47,
   "id": "6c8d89a8",
   "metadata": {},
   "outputs": [
    {
     "name": "stdout",
     "output_type": "stream",
     "text": [
      "(1, 6, 6, 4)\n",
      "True\n"
     ]
    }
   ],
   "source": [
    "    def _check_win(self):\n",
    "        \"\"\"\n",
    "        Checks if the current board state has a winning condition.\n",
    "        Uses convolution with predefined kernels.\n",
    "        Returns a JAX boolean (without using .item()).\n",
    "        \"\"\"\n",
    "        # Add necessary dimensions to current_player for broadcasting\n",
    "        current_player_reshaped = self.current_player[:, jnp.newaxis, jnp.newaxis]\n",
    "        player_boards = (self.board * current_player_reshaped)[:, :, :, jnp.newaxis]\n",
    "        padding = ((WIN_LENGTH - 1, WIN_LENGTH - 1), (WIN_LENGTH - 1, WIN_LENGTH - 1))\n",
    "\n",
    "        conv_output = lax.conv_general_dilated(\n",
    "            player_boards,\n",
    "            self.kernels,\n",
    "            window_strides=(1, 1),\n",
    "            padding=padding,\n",
    "            dimension_numbers=('NHWC', 'HWIO', 'NHWC'),\n",
    "        )\n",
    "        win_condition = conv_output == WIN_LENGTH\n",
    "        win = jnp.any(win_condition)&~self.dones\n",
    "        return win  # Do not call .item(), just return the traced value\n",
    "\n",
    "\n"
   ]
  },
  {
   "cell_type": "code",
   "execution_count": 35,
   "id": "85d97a53",
   "metadata": {},
   "outputs": [
    {
     "name": "stdout",
     "output_type": "stream",
     "text": [
      "(1, 10, 10)\n",
      "(5, 5, 4)\n"
     ]
    }
   ],
   "source": [
    "print(board.shape)\n",
    "print(kernels.shape)"
   ]
  },
  {
   "cell_type": "code",
   "execution_count": 36,
   "id": "2c33454c",
   "metadata": {},
   "outputs": [
    {
     "name": "stdout",
     "output_type": "stream",
     "text": [
      "87\n"
     ]
    }
   ],
   "source": [
    "def get_valid_actions(board):\n",
    "    return board == 0\n",
    "\n",
    "print(get_valid_actions(board))"
   ]
  },
  {
   "cell_type": "code",
   "execution_count": 46,
   "id": "a1f4ea0a",
   "metadata": {},
   "outputs": [
    {
     "name": "stdout",
     "output_type": "stream",
     "text": [
      "(1, 10, 1, 10, 1)\n"
     ]
    }
   ],
   "source": [
    "from jax import random\n",
    "arr = random.normal(random.PRNGKey(0), shape=(10,10))\n",
    "\n",
    "print(arr[None,:,None,:,None].shape)"
   ]
  },
  {
   "cell_type": "code",
   "execution_count": 48,
   "id": "c111d387",
   "metadata": {},
   "outputs": [],
   "source": [
    "    def _check_win(self):\n",
    "        \"\"\"\n",
    "        Checks if the current board state has a winning condition.\n",
    "        Uses convolution with predefined kernels.\n",
    "        Returns a JAX boolean (without using .item()).\n",
    "        \"\"\"\n",
    "        # Add necessary dimensions to current_player for broadcasting\n",
    "        current_player_reshaped = self.current_player[:, jnp.newaxis, jnp.newaxis]\n",
    "        player_boards = (self.board * current_player_reshaped)[:, :, :, jnp.newaxis]\n",
    "        padding = ((WIN_LENGTH - 1, WIN_LENGTH - 1), (WIN_LENGTH - 1, WIN_LENGTH - 1))\n",
    "\n",
    "        conv_output = lax.conv_general_dilated(\n",
    "            player_boards,\n",
    "            self.kernels,\n",
    "            window_strides=(1, 1),\n",
    "            padding=padding,\n",
    "            dimension_numbers=('NHWC', 'HWIO', 'NHWC'),\n",
    "        )\n",
    "        win_condition = conv_output == WIN_LENGTH\n",
    "        win = jnp.any(win_condition)&~self.dones\n",
    "        return win  # Do not call .item(), just return the traced value\n",
    "\n"
   ]
  },
  {
   "cell_type": "code",
   "execution_count": null,
   "id": "7ab86d65",
   "metadata": {},
   "outputs": [],
   "source": [
    "game = GomokuEnv(num_envs=20)\n",
    "\n",
    "for i in range(100):\n",
    "    action_mask = game.get_action_mask()\n",
    "    "
   ]
  },
  {
   "cell_type": "code",
   "execution_count": 7,
   "id": "f3c3fe5e",
   "metadata": {},
   "outputs": [],
   "source": [
    "from jax import lax\n",
    "import jax.numpy as jnp\n",
    "WIN_LENGTH = 5\n",
    "def _create_kernels():\n",
    "    \"\"\"\n",
    "    Creates the kernels to check win conditions.\n",
    "    \"\"\"\n",
    "    ones = jnp.ones((1, WIN_LENGTH), dtype=jnp.float32)  # shape: (1, win_length)\n",
    "    zeros = jnp.zeros((WIN_LENGTH-1, WIN_LENGTH), dtype=jnp.float32)  # shape: (win_length-1, win_length)\n",
    "\n",
    "    horizontal = jnp.expand_dims(jnp.vstack([ones, zeros]), axis=(0,1))  # shape: (1, 1, win_length, win_length)\n",
    "    vertical = jnp.expand_dims(jnp.vstack([ones, zeros]).T, axis=(0,1))  # shape: (1, 1, win_length, win_length)\n",
    "    diagonal = jnp.expand_dims(jnp.eye(WIN_LENGTH, dtype=jnp.float32), axis=(0, 1))  # shape: (1, 1, win_length, win_length)\n",
    "    anti_diagonal = jnp.expand_dims(jnp.fliplr(jnp.eye(WIN_LENGTH, dtype=jnp.float32)), axis=(0, 1))  # shape: (1, 1, win_length, win_length)\n",
    "\n",
    "    # Stack all kernels\n",
    "    kernels = jnp.concatenate([horizontal, vertical, diagonal, anti_diagonal], axis=0).transpose(2,3,1,0)\n",
    "    return kernels  # Shape: (win_length, win_length, 1, 4)\n"
   ]
  },
  {
   "cell_type": "code",
   "execution_count": 42,
   "id": "ef04d002",
   "metadata": {},
   "outputs": [],
   "source": [
    "from jax import lax\n",
    "WIN_LENGTH = 5\n",
    "\n",
    "\n",
    "def _check_win(board,kernels):\n",
    "    \"\"\"\n",
    "    Checks if placing a stone at (row, col) leads to a win for the given player.\n",
    "    A win is defined as having 5 or more consecutive stones in any direction.\n",
    "    \"\"\"\n",
    "    # Prepare the board for convolution\n",
    "    # Shape: (num_envs, board_size, board_size, 1)\n",
    "\n",
    "    # Perform convolution\n",
    "    conv_output = lax.conv_general_dilated(\n",
    "        board,\n",
    "        kernels,\n",
    "        window_strides=(1, 1),\n",
    "        padding='SAME',\n",
    "        dimension_numbers=('NHWC', 'HWIO', 'NHWC'),\n",
    "        feature_group_count=1\n",
    "    )  # Shape: (active_boards_shape, board_size, board_size,4)\n",
    "\n",
    "    win_condition = conv_output == WIN_LENGTH\n",
    "    print(win_condition.shape)\n",
    "    winners = jnp.any(win_condition)\n",
    "    return winners.item()\n"
   ]
  },
  {
   "cell_type": "code",
   "execution_count": 43,
   "id": "84b33041",
   "metadata": {},
   "outputs": [
    {
     "name": "stdout",
     "output_type": "stream",
     "text": [
      "(5, 5, 1, 4)\n"
     ]
    }
   ],
   "source": [
    "kernels = _create_kernels()\n",
    "print(kernels.shape)"
   ]
  },
  {
   "cell_type": "code",
   "execution_count": 44,
   "id": "3131d0dd",
   "metadata": {},
   "outputs": [
    {
     "name": "stdout",
     "output_type": "stream",
     "text": [
      "(1, 10, 10, 4)\n"
     ]
    },
    {
     "data": {
      "text/plain": [
       "True"
      ]
     },
     "execution_count": 44,
     "metadata": {},
     "output_type": "execute_result"
    }
   ],
   "source": [
    "import jax\n",
    "board = jax.random.randint(key=jax.random.PRNGKey(0),shape=(10,10),minval=0,maxval=2).astype(jnp.float32)\n",
    "boards = board[jnp.newaxis,:,:,jnp.newaxis]\n",
    "_check_win(boards,kernels)"
   ]
  },
  {
   "cell_type": "code",
   "execution_count": 5,
   "id": "48352ae0",
   "metadata": {},
   "outputs": [
    {
     "name": "stdout",
     "output_type": "stream",
     "text": [
      "all true\n"
     ]
    }
   ],
   "source": [
    "import jax.numpy as jnp\n",
    "\n",
    "arr =  jnp.array([[True,True],[True,True]])\n",
    "\n",
    "if jnp.all(arr):\n",
    "    print(\"all true\")\n",
    "else:\n",
    "    print(\"not all true\")"
   ]
  },
  {
   "cell_type": "code",
   "execution_count": 8,
   "id": "b72c1994",
   "metadata": {},
   "outputs": [
    {
     "data": {
      "text/plain": [
       "[[5, 7, 9], [6, 1, 2], [8, 0]]"
      ]
     },
     "execution_count": 8,
     "metadata": {},
     "output_type": "execute_result"
    }
   ],
   "source": [
    "import jax\n",
    "jax.tree.map(lambda x, y: [x] + y, [5, 6,8], [[7, 9], [1, 2],[0]])"
   ]
  },
  {
   "cell_type": "code",
   "execution_count": 12,
   "id": "408b7fcc",
   "metadata": {},
   "outputs": [],
   "source": [
    "WIN_LENGTH = 5\n",
    "def _create_kernels():\n",
    "    ones = jnp.ones((1, WIN_LENGTH), dtype=jnp.float32)\n",
    "    zeros = jnp.zeros((WIN_LENGTH - 1, WIN_LENGTH), dtype=jnp.float32)\n",
    "\n",
    "    horizontal = jnp.expand_dims(jnp.vstack([ones, zeros]), axis=(0, 1))\n",
    "    vertical = jnp.expand_dims(jnp.vstack([ones, zeros]).T, axis=(0, 1))\n",
    "    diagonal = jnp.expand_dims(jnp.eye(WIN_LENGTH, dtype=jnp.float32), axis=(0, 1))\n",
    "    anti_diagonal = jnp.expand_dims(jnp.fliplr(jnp.eye(WIN_LENGTH, dtype=jnp.float32)), axis=(0, 1))\n",
    "\n",
    "    kernels = jnp.concatenate([horizontal, vertical, diagonal, anti_diagonal], axis=0).transpose(2, 3, 1, 0)\n",
    "    return kernels\n",
    "\n",
    "def _check_win(board):\n",
    "    \"\"\"\n",
    "    Checks if the current board state has a winning condition.\n",
    "    Uses convolution with predefined kernels.\n",
    "    Returns a JAX boolean (without using .item()).\n",
    "    \"\"\"\n",
    "    # Add necessary dimensions to current_player for broadcasting\n",
    "    player_boards = (board)[:, :, :, jnp.newaxis]\n",
    "    padding = ((WIN_LENGTH - 1, WIN_LENGTH - 1), (WIN_LENGTH - 1, WIN_LENGTH - 1))\n",
    "\n",
    "    conv_output = lax.conv_general_dilated(\n",
    "        player_boards,\n",
    "        kernels,\n",
    "        window_strides=(1, 1),\n",
    "        padding=padding,\n",
    "        dimension_numbers=('NHWC', 'HWIO', 'NHWC'),\n",
    "    )\n",
    "    print(conv_output.shape)\n",
    "    win_condition = abs(conv_output) == WIN_LENGTH\n",
    "    win = jnp.any(win_condition,axis=(-3,-2,-1))\n",
    "    return win # Do not call .item(), just return the traced value\n",
    "\n",
    "\n",
    "\n",
    "\n"
   ]
  },
  {
   "cell_type": "code",
   "execution_count": 13,
   "id": "f2e4f2bf",
   "metadata": {},
   "outputs": [
    {
     "name": "stdout",
     "output_type": "stream",
     "text": [
      "(3, 10, 10)\n",
      "(3, 14, 14, 4)\n",
      "[ True False  True]\n"
     ]
    }
   ],
   "source": [
    "import jax.numpy as jnp\n",
    "from jax import lax\n",
    "\n",
    "\n",
    "# All three boards stacked in a single array with shape (3, 10, 10)\n",
    "boards = jnp.array([\n",
    "    # Board 0\n",
    "    [\n",
    "        [0, 0, 0, 0, 0, 0, 0, 0, 0, 0],\n",
    "        [0, 1, -1, -1, -1, -1, -1, 0, 0, 0],\n",
    "        [0, 1, 1, 1, 1, 0, 0, 0, 0, 0],\n",
    "        [0, 0, 0, 0, 0, 0, 0, 0, 0, 0],\n",
    "        [0, 0, 0, 0, 0, 0, 0, 0, 0, 0],\n",
    "        [0, 0, 0, 0, 0, 0, 0, 0, 0, 0],\n",
    "        [0, 0, 0, 0, 0, 0, 0, 0, 0, 0],\n",
    "        [0, 0, 0, 0, 0, 0, 0, 0, 0, 0],\n",
    "        [0, 0, 0, 0, 0, 0, 0, 0, 0, 0],\n",
    "        [0, 0, 0, 0, 0, 0, 0, 0, 0, 0]\n",
    "    ],\n",
    "    \n",
    "    # Board 1\n",
    "    [\n",
    "        [0, 0, 0, 0, 0, 0, 0, 0, 0, 0],\n",
    "        [0, 0, 0, 0, 0, 0, -1, 0, 0, 0],\n",
    "        [0, 0, 1, 0, -1, 0, 0, -1, 0, 0],\n",
    "        [0, 0, 0, 0, 0, -1, 0, 0, -1, 0],\n",
    "        [0, 0, 0, 0, 0, 0, 0, 0, 0, 0],\n",
    "        [0, 0, 0, 1, 0, 0, 0, 0, 0, 0],\n",
    "        [0, 0, 1, 0, 0, 0, 0, 0, 0, 0],\n",
    "        [0, 1, 0, 0, 0, 0, 0, 0, 0, 0],\n",
    "        [1, 0, 0, 0, 0, 0, 0, 0, 0, 0],\n",
    "        [0, 0, 0, 0, 0, 0, 0, 0, 0, 0]\n",
    "    ],\n",
    "    \n",
    "    # Board 2\n",
    "    [\n",
    "        [0, 0, 0, 0, 0, 0, 0, 0, 0, 0],\n",
    "        [0, 0, 0, 0, 0, 0, 0, 0, 0, 0],\n",
    "        [0, 0, 0, 0, 0, 0, 0, 0, 0, 0],\n",
    "        [0, 0, 0, 1, -1, -1, -1, -1, -1, 0],\n",
    "        [0, 0, 0, 0, 0, 0, 0, 0, 0, 0],\n",
    "        [0, 0, 0, 1, 0, 0, 0, 0, 0, 0],\n",
    "        [0, 0, 0, 1, 0, 0, 0, 0, 0, 0],\n",
    "        [0, 0, 0, 1, 0, 0, 0, 0, 0, 0],\n",
    "        [0, 0, 0, 1, 0, 0, 0, 0, 0, 0],\n",
    "        [0, 0, 0, 0, 0, 0, 0, 0, 0, 0]\n",
    "    ]\n",
    "], dtype=jnp.float32)\n",
    "\n",
    "print(boards.shape)\n",
    "kernels = _create_kernels()\n",
    "print(_check_win(boards))"
   ]
  },
  {
   "cell_type": "code",
   "execution_count": 6,
   "id": "6d2acf5c",
   "metadata": {},
   "outputs": [
    {
     "ename": "NameError",
     "evalue": "name 'row' is not defined",
     "output_type": "error",
     "traceback": [
      "\u001b[0;31m---------------------------------------------------------------------------\u001b[0m",
      "\u001b[0;31mNameError\u001b[0m                                 Traceback (most recent call last)",
      "Cell \u001b[0;32mIn[6], line 1\u001b[0m\n\u001b[0;32m----> 1\u001b[0m \u001b[38;5;28mprint\u001b[39m(\u001b[43mrow\u001b[49m)\n\u001b[1;32m      2\u001b[0m \u001b[38;5;28mprint\u001b[39m(col)\n",
      "\u001b[0;31mNameError\u001b[0m: name 'row' is not defined"
     ]
    }
   ],
   "source": [
    "print(row)\n",
    "print(col)"
   ]
  },
  {
   "cell_type": "code",
   "execution_count": 35,
   "id": "24ae7176",
   "metadata": {},
   "outputs": [],
   "source": [
    "board = jnp.zeros((3,15,15))\n",
    "board = board.at[jnp.arange(3),row,col].set(1)"
   ]
  },
  {
   "cell_type": "code",
   "execution_count": 2,
   "id": "c103379d",
   "metadata": {},
   "outputs": [
    {
     "name": "stdout",
     "output_type": "stream",
     "text": [
      "[[1 4]\n",
      " [2 5]\n",
      " [3 6]]\n"
     ]
    }
   ],
   "source": [
    "import jax.numpy as jnp\n",
    "a = (1,2,3)\n",
    "b = (4,5,6)\n",
    "\n",
    "print(jnp.array(list(zip(a,b))))"
   ]
  },
  {
   "cell_type": "code",
   "execution_count": 6,
   "id": "c16db580",
   "metadata": {},
   "outputs": [],
   "source": [
    "c  = jnp.array(list(zip(a,b))).T\n"
   ]
  },
  {
   "cell_type": "code",
   "execution_count": 7,
   "id": "a4ff9448",
   "metadata": {},
   "outputs": [
    {
     "name": "stdout",
     "output_type": "stream",
     "text": [
      "[ 7 11 15]\n"
     ]
    }
   ],
   "source": [
    "print(c[0]*3+c[1])"
   ]
  },
  {
   "cell_type": "code",
   "execution_count": 16,
   "id": "54e55551",
   "metadata": {},
   "outputs": [
    {
     "name": "stdout",
     "output_type": "stream",
     "text": [
      "Original trajectory shapes:\n",
      "obs: (6, 3, 1)\n",
      "actions: (6, 3, 2)\n",
      "log_probs: (6, 3)\n",
      "rewards: (6, 3)\n",
      "dones: (6, 3)\n",
      "\n",
      "Processed trajectory:\n",
      "Processed Observations (shape (13, 1)):\n",
      "[[ 0]\n",
      " [ 1]\n",
      " [ 2]\n",
      " [ 3]\n",
      " [ 4]\n",
      " [ 5]\n",
      " [ 6]\n",
      " [ 7]\n",
      " [ 8]\n",
      " [10]\n",
      " [11]\n",
      " [13]\n",
      " [16]]\n",
      "Processed Actions (shape (13, 2)):\n",
      "[[  0 100]\n",
      " [  1 101]\n",
      " [  2 102]\n",
      " [  3 103]\n",
      " [  4 104]\n",
      " [  5 105]\n",
      " [  6 106]\n",
      " [  7 107]\n",
      " [  8 108]\n",
      " [ 10 110]\n",
      " [ 11 111]\n",
      " [ 13 113]\n",
      " [ 16 116]]\n",
      "Processed Log Probs (shape (13,)):\n",
      "[0.         0.05882353 0.11764706 0.1764706  0.23529412 0.29411766\n",
      " 0.3529412  0.4117647  0.47058824 0.5882353  0.64705884 0.7647059\n",
      " 0.9411765 ]\n",
      "Processed Rewards (shape (13,)):\n",
      "[0.         0.05882353 0.11764706 0.1764706  0.23529412 0.29411766\n",
      " 0.3529412  0.4117647  0.47058824 0.5882353  0.64705884 0.7647059\n",
      " 0.9411765 ]\n"
     ]
    }
   ],
   "source": [
    "import jax\n",
    "import jax.numpy as jnp\n",
    "\n",
    "def preprocess_trajectory(trajectory):\n",
    "    \"\"\"\n",
    "    Processes a batched trajectory from multiple parallel environments whose episodes\n",
    "    might end at different time steps. For each environment, the trajectory is truncated\n",
    "    at the first time step where the done flag becomes True. The valid data from all\n",
    "    environments are concatenated along the time dimension.\n",
    "\n",
    "    Args:\n",
    "        trajectory: dict containing keys:\n",
    "            \"obs\": jnp.ndarray with shape (T, num_envs, ...) e.g. (T, num_envs, board_size, board_size)\n",
    "            \"actions\": jnp.ndarray with shape (T, num_envs, 2)\n",
    "            \"log_probs\": jnp.ndarray with shape (T, num_envs)\n",
    "            \"rewards\": jnp.ndarray with shape (T, num_envs)\n",
    "            \"dones\": jnp.ndarray with shape (T, num_envs), where True indicates the episode is done.\n",
    "\n",
    "    Returns:\n",
    "        A dict with keys \"obs\", \"actions\", \"log_probs\", and \"rewards\" containing the valid,\n",
    "        concatenated trajectory data from all environments.\n",
    "    \"\"\"\n",
    "    # Make sure rewards and dones are JAX arrays.\n",
    "    trajectory[\"rewards\"] = jnp.array(trajectory[\"rewards\"])\n",
    "    trajectory[\"dones\"] = jnp.array(trajectory[\"dones\"])\n",
    "\n",
    "    T, num_envs = trajectory[\"obs\"].shape[0], trajectory[\"obs\"].shape[1]\n",
    "    indices = jnp.argmax(trajectory[\"dones\"], axis=0)\n",
    "    mask = jnp.arange(T)[:, None] <= indices[None, :]\n",
    "    valid_obs = trajectory[\"obs\"][mask]\n",
    "    valid_actions = trajectory[\"actions\"][mask]\n",
    "    valid_log_probs = trajectory[\"log_probs\"][mask]\n",
    "    valid_rewards = trajectory[\"rewards\"][mask]\n",
    "\n",
    "    return {\n",
    "        \"obs\": valid_obs,\n",
    "        \"actions\": valid_actions,\n",
    "        \"log_probs\": valid_log_probs,\n",
    "        \"rewards\": valid_rewards\n",
    "    }\n",
    "\n",
    "def main():\n",
    "    # Define trajectory dimensions.\n",
    "    T = 6         # number of time steps\n",
    "    num_envs = 3  # number of parallel environments\n",
    "\n",
    "    # Create fake data for trajectory.\n",
    "    # For simplicity, observations will be unique integers reshaped to (T, num_envs, 1)\n",
    "    obs = jnp.arange(T * num_envs).reshape(T, num_envs, 1)\n",
    "    \n",
    "    # Actions: Create two columns per action (e.g. row, col)\n",
    "    actions_data = jnp.arange(T * num_envs).reshape(T, num_envs, 1)\n",
    "    actions = jnp.concatenate([actions_data, actions_data + 100], axis=-1)\n",
    "\n",
    "    # Log probabilities (for example, a linear spacing between 0 and 1)\n",
    "    log_probs = jnp.linspace(0, 1, T * num_envs).reshape(T, num_envs)\n",
    "\n",
    "    # Rewards (also a linear spacing for illustration)\n",
    "    rewards = jnp.linspace(0, 1, T * num_envs).reshape(T, num_envs)\n",
    "\n",
    "    # dones: simulate each environment ending at a different time.\n",
    "    # Environment 0: done at step 2, Environment 1: done at step 5, Environment 2: done at step 3\n",
    "    dones = jnp.array([\n",
    "        [False, False, False],  # step 0: all active\n",
    "        [False, False, False],  # step 1\n",
    "        [True,  False, False],  # step 2: env 0 ends\n",
    "        [True, False, True ],  # step 3: env 2 ends\n",
    "        [True, False, True ],  # step 4\n",
    "        [True, True,  True]   # step 5: env 1 ends\n",
    "    ])\n",
    "\n",
    "    # Build trajectory dictionary.\n",
    "    trajectory = {\n",
    "        \"obs\": obs,           # shape (T, num_envs, 1)\n",
    "        \"actions\": actions,   # shape (T, num_envs, 2)\n",
    "        \"log_probs\": log_probs,   # shape (T, num_envs)\n",
    "        \"rewards\": rewards,       # shape (T, num_envs)\n",
    "        \"dones\": dones            # shape (T, num_envs)\n",
    "    }\n",
    "\n",
    "    print(\"Original trajectory shapes:\")\n",
    "    print(\"obs:\", trajectory[\"obs\"].shape)\n",
    "    print(\"actions:\", trajectory[\"actions\"].shape)\n",
    "    print(\"log_probs:\", trajectory[\"log_probs\"].shape)\n",
    "    print(\"rewards:\", trajectory[\"rewards\"].shape)\n",
    "    print(\"dones:\", trajectory[\"dones\"].shape)\n",
    "\n",
    "    # Process the trajectory using our function.\n",
    "    processed = preprocess_trajectory(trajectory)\n",
    "\n",
    "    # Print results.\n",
    "    print(\"\\nProcessed trajectory:\")\n",
    "    print(\"Processed Observations (shape {}):\".format(processed[\"obs\"].shape))\n",
    "    print(processed[\"obs\"])\n",
    "    print(\"Processed Actions (shape {}):\".format(processed[\"actions\"].shape))\n",
    "    print(processed[\"actions\"])\n",
    "    print(\"Processed Log Probs (shape {}):\".format(processed[\"log_probs\"].shape))\n",
    "    print(processed[\"log_probs\"])\n",
    "    print(\"Processed Rewards (shape {}):\".format(processed[\"rewards\"].shape))\n",
    "    print(processed[\"rewards\"])\n",
    "\n",
    "if __name__ == \"__main__\":\n",
    "    main()"
   ]
  },
  {
   "cell_type": "code",
   "execution_count": 19,
   "id": "30e563ea",
   "metadata": {},
   "outputs": [],
   "source": [
    "import jax.numpy as jnp\n",
    "action = jnp.array([[1,2],[3,4],[5,6]])\n",
    "rows, cols = action.T\n",
    "\n",
    "    # Create a boolean mask: True for boards that are not done.\n",
    "done = jnp.array([False,False,True])\n",
    "active_mask = jnp.logical_not(done)\n",
    "# Get the indices for active boards.\n",
    "active_idx = jnp.where(active_mask)"
   ]
  },
  {
   "cell_type": "code",
   "execution_count": 22,
   "id": "495d16d6",
   "metadata": {},
   "outputs": [
    {
     "name": "stdout",
     "output_type": "stream",
     "text": [
      "<class 'tuple'>\n"
     ]
    }
   ],
   "source": [
    "print(type(active_idx))"
   ]
  },
  {
   "cell_type": "code",
   "execution_count": 24,
   "id": "469430b8",
   "metadata": {},
   "outputs": [],
   "source": [
    "def sample_action(logits, rng):\n",
    "        \"\"\"\n",
    "        Samples an action from the given logits and returns a tuple (row, col).\n",
    "\n",
    "        Args:\n",
    "            logits (jnp.ndarray): A tensor of shape (batch, board_size, board_size)\n",
    "                                  representing the unnormalized log-probabilities.\n",
    "            rng: A JAX PRNGKey for randomness.\n",
    "\n",
    "        Returns:\n",
    "            jnp.ndarray: Selected moves as an array with shape (2, batch).\n",
    "        \"\"\"\n",
    "        batch_size, board_size, _ = logits.shape\n",
    "        flat_logits = logits.reshape((batch_size, board_size * board_size))\n",
    "        flat_actions = jax.random.categorical(rng, flat_logits, axis=-1)\n",
    "        rows = flat_actions // board_size\n",
    "        cols = flat_actions % board_size\n",
    "        return jnp.array(list(zip(rows, cols)))\n"
   ]
  },
  {
   "cell_type": "code",
   "execution_count": 30,
   "id": "84b5e4ba",
   "metadata": {},
   "outputs": [],
   "source": [
    "batch_size = 10\n",
    "board_size = 15\n",
    "arr = jnp.array([-jnp.inf]*batch_size*board_size*board_size).reshape(batch_size,board_size,board_size)\n",
    "rng = jax.random.PRNGKey(12131232)\n",
    "action = sample_action(arr,rng)"
   ]
  },
  {
   "cell_type": "code",
   "execution_count": 67,
   "id": "06f89297",
   "metadata": {},
   "outputs": [],
   "source": [
    "def discount_rewards(rewards, gamma):\n",
    "    \"\"\"\n",
    "    Calculate discounted rewards for batched trajectories.\n",
    "\n",
    "    Args:\n",
    "      rewards: a 2D jnp.array with shape (batch, T)\n",
    "      gamma: discount factor.\n",
    "      \n",
    "    Returns:\n",
    "      A jnp.array of discounted rewards with the same shape as `rewards`.\n",
    "    \"\"\"\n",
    "    def discount_single(r):\n",
    "      def scan_fn(carry, reward):\n",
    "        new_carry = reward + gamma * carry\n",
    "        return new_carry, new_carry\n",
    "\n",
    "      _, discounted_reversed = lax.scan(scan_fn, 0.0, r[::-1])\n",
    "      return discounted_reversed[::-1]\n",
    "    return jax.vmap(discount_single,in_axes=1,out_axes=1)(rewards)\n"
   ]
  },
  {
   "cell_type": "code",
   "execution_count": 68,
   "id": "ac50e600",
   "metadata": {},
   "outputs": [
    {
     "name": "stdout",
     "output_type": "stream",
     "text": [
      "[[1.99      3.98      5.9700003 7.96      9.95     ]\n",
      " [1.        2.        3.        4.        5.       ]]\n"
     ]
    }
   ],
   "source": [
    "rewards = jnp.array([[1,2,3,4,5],[1,2,3,4,5]])\n",
    "discounted_rewards = discount_rewards(rewards,0.99)\n",
    "print(discounted_rewards)"
   ]
  },
  {
   "cell_type": "code",
   "execution_count": 5,
   "id": "5ff7855f",
   "metadata": {},
   "outputs": [
    {
     "name": "stdout",
     "output_type": "stream",
     "text": [
      "[0 1 2 3 4]\n",
      "[0 1 2 3 4]\n",
      "[[0 1 2 3 4]\n",
      " [0 1 2 3 4]\n",
      " [0 1 2 3 4]\n",
      " [0 1 2 3 4]\n",
      " [0 1 2 3 4]]\n",
      "[[0 0 0 0 0]\n",
      " [1 1 1 1 1]\n",
      " [2 2 2 2 2]\n",
      " [3 3 3 3 3]\n",
      " [4 4 4 4 4]]\n"
     ]
    }
   ],
   "source": [
    "import numpy as np\n",
    "nx, ny = (5, 5)\n",
    "x = np.arange(nx)\n",
    "print(x)\n",
    "y = np.arange(ny)\n",
    "print(y)\n",
    "xv, yv = np.meshgrid(x, y)\n",
    "print(xv)\n",
    "print(yv)"
   ]
  },
  {
   "cell_type": "code",
   "execution_count": null,
   "id": "7556d371",
   "metadata": {},
   "outputs": [],
   "source": []
  },
  {
   "cell_type": "code",
   "execution_count": null,
   "id": "d82eb75d",
   "metadata": {},
   "outputs": [],
   "source": []
  }
 ],
 "metadata": {
  "kernelspec": {
   "display_name": ".venv",
   "language": "python",
   "name": "python3"
  },
  "language_info": {
   "codemirror_mode": {
    "name": "ipython",
    "version": 3
   },
   "file_extension": ".py",
   "mimetype": "text/x-python",
   "name": "python",
   "nbconvert_exporter": "python",
   "pygments_lexer": "ipython3",
   "version": "3.12.8"
  }
 },
 "nbformat": 4,
 "nbformat_minor": 5
}
