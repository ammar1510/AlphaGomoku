{
 "cells": [
  {
   "cell_type": "code",
   "execution_count": 24,
   "metadata": {},
   "outputs": [],
   "source": [
    "import jax\n",
    "import jax.numpy as jnp\n",
    "\n",
    "win_length = 5\n",
    "\n",
    "ones = jnp.ones((1, win_length), dtype=jnp.int8)  # shape: (1, win_length)\n",
    "zeros = jnp.zeros((win_length-1, win_length), dtype=jnp.int8)  # shape: (win_length-1, win_length)\n",
    "\n",
    "# Create horizontal kernel\n",
    "horizontal = jnp.expand_dims(jnp.vstack([ones, zeros]), axis=(0,1))  # shape: (1, 1, win_length, win_length)\n",
    "vertical = jnp.expand_dims(jnp.vstack([ones, zeros]).T, axis=(0,1))  # shape: (1, 1, win_length, win_length)\n",
    "diagonal = jnp.expand_dims(jnp.eye(win_length, dtype=jnp.int8), axis=(0, 1))  # shape: (1, 1, win_length, win_length)\n",
    "anti_diagonal = jnp.expand_dims(jnp.fliplr(jnp.eye(win_length, dtype=jnp.int8)), axis=(0, 1))  # shape: (1, 1, win_length, win_length)\n",
    "\n",
    "# Stack all kernels\n"
   ]
  },
  {
   "cell_type": "code",
   "execution_count": 47,
   "id": "6c8d89a8",
   "metadata": {},
   "outputs": [
    {
     "name": "stdout",
     "output_type": "stream",
     "text": [
      "(1, 6, 6, 4)\n",
      "True\n"
     ]
    }
   ],
   "source": [
    "kernels = jnp.concatenate([horizontal, vertical, diagonal, anti_diagonal], axis=0)\n",
    "\n",
    "def check_winner(board, kernels):\n",
    "    \"\"\"\n",
    "    Performs convolution between the board and all kernels to check for a winning state.\n",
    "\n",
    "    Args:\n",
    "        board (jnp.ndarray): The current Gomoku board state with shape (N, H, W, C).\n",
    "        kernels (jnp.ndarray): The stacked kernels with shape (H, W, C_in, C_out).\n",
    "\n",
    "    Returns:\n",
    "        bool: True if a winning state is detected, False otherwise.\n",
    "    \"\"\"\n",
    "    # Perform convolution\n",
    "    conv_result = jax.lax.conv_general_dilated(\n",
    "        lhs=board,\n",
    "        rhs=kernels,\n",
    "        window_strides=(1, 1),\n",
    "        padding='VALID',\n",
    "        dimension_numbers=('NHWC', 'HWIO', 'NHWC')\n",
    "    )\n",
    "    print(conv_result.shape)\n",
    "    \n",
    "    conv_result = conv_result.transpose(0,3,1,2)\n",
    "    # Check if any convolution result equals 5 or -5\n",
    "    winner = jnp.any((conv_result == 5) | (conv_result == -5))\n",
    "    \n",
    "    return bool(winner)\n",
    "\n",
    "# Initialize the board\n",
    "board = jnp.array([\n",
    "    [0, 0, 0, 1, 1],\n",
    "    [0, 1, 1, 1, 0],\n",
    "    [1, 0, 1, 1, 0],\n",
    "    [0, 1, 1, 1, 0],\n",
    "    [1, 0, 0, 0, 1]\n",
    "],dtype=jnp.int8)  # Shape: (5, 5)\n",
    "board = jnp.pad(board,pad_width=((0,5),(0,5)),mode='constant',constant_values=0)\n",
    "\n",
    "# Reshape the board to match the expected dimensions (N, H, W, C)\n",
    "board = board.reshape(1, 10, 10, 1)  # Shape: (1, 5, 5, 1)\n",
    "\n",
    "# Reshape kernels to match the expected dimensions (H, W, C_in, C_out)\n",
    "kernels = kernels.transpose(2, 3,1,0)  # Shape: (5, 5, 1, 4)\n",
    "print(check_winner(board, kernels))\n",
    "board=board.squeeze(axis=3)\n",
    "kernels=kernels.squeeze(axis=2)\n",
    "\n"
   ]
  },
  {
   "cell_type": "code",
   "execution_count": 35,
   "id": "85d97a53",
   "metadata": {},
   "outputs": [
    {
     "name": "stdout",
     "output_type": "stream",
     "text": [
      "(1, 10, 10)\n",
      "(5, 5, 4)\n"
     ]
    }
   ],
   "source": [
    "print(board.shape)\n",
    "print(kernels.shape)"
   ]
  },
  {
   "cell_type": "code",
   "execution_count": 36,
   "id": "2c33454c",
   "metadata": {},
   "outputs": [
    {
     "name": "stdout",
     "output_type": "stream",
     "text": [
      "87\n"
     ]
    }
   ],
   "source": [
    "def get_valid_actions(board):\n",
    "    return board == 0\n",
    "\n",
    "print(get_valid_actions(board))"
   ]
  },
  {
   "cell_type": "code",
   "execution_count": 46,
   "id": "a1f4ea0a",
   "metadata": {},
   "outputs": [
    {
     "name": "stdout",
     "output_type": "stream",
     "text": [
      "(1, 10, 1, 10, 1)\n"
     ]
    }
   ],
   "source": [
    "from jax import random\n",
    "arr = random.normal(random.PRNGKey(0), shape=(10,10))\n",
    "\n",
    "print(arr[None,:,None,:,None].shape)"
   ]
  },
  {
   "cell_type": "code",
   "execution_count": 48,
   "id": "c111d387",
   "metadata": {},
   "outputs": [],
   "source": [
    "\n",
    "class GomokuEnv:\n",
    "    def __init__(self, board_size=15, num_envs=1, device=jax.devices('cpu')[0]):\n",
    "        \"\"\"\n",
    "        Initializes the Gomoku environment.\n",
    "\n",
    "        Args:\n",
    "            board_size (int): Size of the game board (default is 15).\n",
    "            num_envs (int): Number of parallel environments (default is 1).\n",
    "            device: JAX device to run the computations on.\n",
    "        \"\"\"\n",
    "        self.board_size = board_size\n",
    "        self.num_envs = num_envs\n",
    "        self.device = device\n",
    "        self.win_length = 5\n",
    "        self.board = jnp.zeros((num_envs,board_size+self.win_length-1, board_size+self.win_length-1), dtype=jnp.int8, device=device) #shape: (num_envs, board_size, board_size)\n",
    "        #extra 0s for convolution\n",
    "\n",
    "        self.current_player = jnp.ones((num_envs,), dtype=jnp.int8, device=device) #shape: (num_envs,) 1 for black, -1 for white\n",
    "        self.game_over = jnp.zeros((num_envs,), dtype=bool, device=device) #shape: (num_envs,)\n",
    "\n",
    "        # Initialize kernels for win detection\n",
    "        self.kernels = self._create_kernels()\n",
    "\n",
    "    def to(self,device=jax.devices('cpu')[0]):\n",
    "        \"\"\"\n",
    "        Moves the environment to a different device.\n",
    "\n",
    "        Args:\n",
    "            device: JAX device to move the environment to.\n",
    "\n",
    "        Returns:\n",
    "            The environment object itself.\n",
    "        \"\"\"\n",
    "        self.device = device\n",
    "        self.board = self.board.to(device)\n",
    "        self.current_player = self.current_player.to(device)\n",
    "        self.game_over = self.game_over.to(device)\n",
    "        self.kernels = self.kernels.to(device)\n",
    "        return self\n",
    "\n",
    "    def _create_kernels(self):\n",
    "        \"\"\"\n",
    "        Creates kernels for horizontal, vertical, diagonal, and anti-diagonal win detection.\n",
    "\n",
    "        Returns:\n",
    "            jnp.ndarray: A tensor of shape (4, 1, 5, 5) containing the kernels.\n",
    "        \"\"\"\n",
    "        ones = jnp.ones((1, self.win_length), dtype=jnp.int8)  # shape: (1, win_length)\n",
    "        zeros = jnp.zeros((self.win_length-1, self.win_length), dtype=jnp.int8)  # shape: (win_length-1, win_length)\n",
    "\n",
    "        horizontal = jnp.expand_dims(jnp.vstack([ones, zeros]), axis=(0,1))  # shape: (1, 1, win_length, win_length)\n",
    "        vertical = jnp.expand_dims(jnp.vstack([ones, zeros]).T, axis=(0,1))  # shape: (1, 1, win_length, win_length)\n",
    "        diagonal = jnp.expand_dims(jnp.eye(self.win_length, dtype=jnp.int8), axis=(0, 1))  # shape: (1, 1, win_length, win_length)\n",
    "        anti_diagonal = jnp.expand_dims(jnp.fliplr(jnp.eye(self.win_length, dtype=jnp.int8)), axis=(0, 1))  # shape: (1, 1, win_length, win_length)\n",
    "\n",
    "        # Stack all kernels\n",
    "        kernels = jnp.concatenate([horizontal, vertical, diagonal, anti_diagonal], axis=0)[jnp.newaxis,:,:,:].transpose(2,3,0,1)\n",
    "        return kernels  # Shape: (win_length, win_length, 1, 4)\n",
    "\n",
    "    def reset(self, env_indices=None):\n",
    "        \"\"\"\n",
    "        Resets the environment(s).\n",
    "\n",
    "        Args:\n",
    "            env_indices (array-like, optional): Specific environments to reset. \n",
    "                                                If None, all environments are reset.\n",
    "\n",
    "        Returns:\n",
    "            Tuple of (board, current_player, game_over) after reset.\n",
    "        \"\"\"\n",
    "        if env_indices is None:\n",
    "            self.board = jnp.zeros((self.num_envs, self.board_size, self.board_size), dtype=jnp.int8, device=self.device)\n",
    "            self.current_player = jnp.ones((self.num_envs,), dtype=jnp.int8, device=self.device)\n",
    "            self.game_over = jnp.zeros((self.num_envs,), dtype=bool, device=self.device)\n",
    "        else:\n",
    "            self.board = self.board.at[env_indices].set(\n",
    "                jnp.zeros((len(env_indices), self.board_size, self.board_size), dtype=jnp.int8, device=self.device)\n",
    "            )\n",
    "            self.current_player = self.current_player.at[env_indices].set(\n",
    "                jnp.ones((len(env_indices),), dtype=jnp.int8, device=self.device)\n",
    "            )\n",
    "            self.game_over = self.game_over.at[env_indices].set(\n",
    "                jnp.zeros((len(env_indices),), dtype=bool, device=self.device)\n",
    "            )\n",
    "        \n",
    "        return self.get_state()\n",
    "\n",
    "    def step(self, actions: jnp.ndarray):\n",
    "        \"\"\"\n",
    "        Performs a step in multiple environments by applying the given actions.\n",
    "\n",
    "        Args:\n",
    "            actions (jnp.ndarray): Array of shape (num_envs, 2) where each row is (row, col) indices \n",
    "                                   for the corresponding environment's action.\n",
    "\n",
    "        Returns:\n",
    "            Tuple of (board, current_player, game_over) after the actions.\n",
    "        \"\"\"\n",
    "        env_indices = jnp.arange(self.num_envs)\n",
    "        rows, cols = actions[:, 0], actions[:, 1]\n",
    "\n",
    "        # Ensure the actions are within the board\n",
    "        valid_bounds = (0 <= rows) & (rows < self.board_size) & (0 <= cols) & (cols < self.board_size)\n",
    "\n",
    "        # Check if the positions are already taken\n",
    "        positions = self.board[env_indices, rows, cols]\n",
    "        valid_positions = positions == 0\n",
    "\n",
    "        # Combine validity checks\n",
    "        valid_actions = valid_bounds & valid_positions & ~self.game_over\n",
    "\n",
    "        if not jnp.all(valid_actions):\n",
    "            invalid_envs = jnp.where(~valid_actions)[0]\n",
    "            raise ValueError(f\"Invalid actions in environments: {invalid_envs}\")\n",
    "\n",
    "        # Update the board\n",
    "        self.board = self.board.at[env_indices, rows, cols].set(self.current_player)\n",
    "\n",
    "        # Check for win or draw using convolution\n",
    "        winners, dones = self.check_game_over()\n",
    "\n",
    "        # Update game_over based on winners and draws\n",
    "        self.game_over = jnp.logical_or(self.game_over, dones | winners)\n",
    "\n",
    "        # Switch players\n",
    "        self.current_player = self.current_player.at[env_indices].set(-self.current_player)\n",
    "\n",
    "        return self.get_state()\n",
    "\n",
    "    def check_game_over(self):\n",
    "        \"\"\"\n",
    "        Checks if the latest actions resulted in a win or draw.\n",
    "\n",
    "        Returns:\n",
    "            Tuple of (winners, dones) where:\n",
    "                - winners is a boolean array indicating if the current move caused a win.\n",
    "                - dones is a boolean array indicating if the game is a draw.\n",
    "        \"\"\"\n",
    "        # Prepare the board for convolution\n",
    "        # Shape: (num_envs, 1, board_size, board_size)\n",
    "        player_boards = (self.board * self.current_player[:,jnp.newaxis,jnp.newaxis]).astype(jnp.int8)[:,:,:,jnp.newaxis]\n",
    "\n",
    "        # Perform convolution\n",
    "        conv_output = lax.conv_general_dilated(\n",
    "            player_boards,\n",
    "            self.kernels,\n",
    "            window_strides=(1, 1),\n",
    "            padding='VALID',\n",
    "            dimension_numbers=('NHWC', 'HWIO', 'NHWC'),\n",
    "            feature_group_count=1\n",
    "        )  # Shape: (num_envs, board_size - 4, board_size - 4,4)\n",
    "\n",
    "        win_condition = conv_output == self.win_length\n",
    "        winners = jnp.any(win_condition, axis=(1, 2, 3))  # Shape: (num_envs,)\n",
    "\n",
    "        # Check for draw (no empty spaces left)\n",
    "        empty_spaces = jnp.any(self.board == 0, axis=(1, 2))\n",
    "        dones = ~empty_spaces\n",
    "\n",
    "        return winners, dones\n",
    "\n",
    "    def get_state(self):\n",
    "        \"\"\"\n",
    "        Retrieves the current state of the environment(s).\n",
    "\n",
    "        Returns:\n",
    "            Tuple of (board, current_player, game_over).\n",
    "        \"\"\"\n",
    "        return self.board, self.current_player, self.game_over\n"
   ]
  },
  {
   "cell_type": "code",
   "execution_count": null,
   "id": "7ab86d65",
   "metadata": {},
   "outputs": [],
   "source": [
    "game = GomokuEnv(num_envs=20)\n",
    "\n",
    "for i in range(100):\n",
    "    action_mask = game.get_action_mask()\n",
    "    "
   ]
  },
  {
   "cell_type": "code",
   "execution_count": 7,
   "id": "f3c3fe5e",
   "metadata": {},
   "outputs": [],
   "source": [
    "from jax import lax\n",
    "import jax.numpy as jnp\n",
    "WIN_LENGTH = 5\n",
    "def _create_kernels():\n",
    "    \"\"\"\n",
    "    Creates the kernels to check win conditions.\n",
    "    \"\"\"\n",
    "    ones = jnp.ones((1, WIN_LENGTH), dtype=jnp.float32)  # shape: (1, win_length)\n",
    "    zeros = jnp.zeros((WIN_LENGTH-1, WIN_LENGTH), dtype=jnp.float32)  # shape: (win_length-1, win_length)\n",
    "\n",
    "    horizontal = jnp.expand_dims(jnp.vstack([ones, zeros]), axis=(0,1))  # shape: (1, 1, win_length, win_length)\n",
    "    vertical = jnp.expand_dims(jnp.vstack([ones, zeros]).T, axis=(0,1))  # shape: (1, 1, win_length, win_length)\n",
    "    diagonal = jnp.expand_dims(jnp.eye(WIN_LENGTH, dtype=jnp.float32), axis=(0, 1))  # shape: (1, 1, win_length, win_length)\n",
    "    anti_diagonal = jnp.expand_dims(jnp.fliplr(jnp.eye(WIN_LENGTH, dtype=jnp.float32)), axis=(0, 1))  # shape: (1, 1, win_length, win_length)\n",
    "\n",
    "    # Stack all kernels\n",
    "    kernels = jnp.concatenate([horizontal, vertical, diagonal, anti_diagonal], axis=0).transpose(2,3,1,0)\n",
    "    return kernels  # Shape: (win_length, win_length, 1, 4)\n"
   ]
  },
  {
   "cell_type": "code",
   "execution_count": 42,
   "id": "ef04d002",
   "metadata": {},
   "outputs": [],
   "source": [
    "from jax import lax\n",
    "WIN_LENGTH = 5\n",
    "\n",
    "\n",
    "def _check_win(board,kernels):\n",
    "    \"\"\"\n",
    "    Checks if placing a stone at (row, col) leads to a win for the given player.\n",
    "    A win is defined as having 5 or more consecutive stones in any direction.\n",
    "    \"\"\"\n",
    "    # Prepare the board for convolution\n",
    "    # Shape: (num_envs, board_size, board_size, 1)\n",
    "\n",
    "    # Perform convolution\n",
    "    conv_output = lax.conv_general_dilated(\n",
    "        board,\n",
    "        kernels,\n",
    "        window_strides=(1, 1),\n",
    "        padding='SAME',\n",
    "        dimension_numbers=('NHWC', 'HWIO', 'NHWC'),\n",
    "        feature_group_count=1\n",
    "    )  # Shape: (active_boards_shape, board_size, board_size,4)\n",
    "\n",
    "    win_condition = conv_output == WIN_LENGTH\n",
    "    print(win_condition.shape)\n",
    "    winners = jnp.any(win_condition)\n",
    "    return winners.item()\n"
   ]
  },
  {
   "cell_type": "code",
   "execution_count": 43,
   "id": "84b33041",
   "metadata": {},
   "outputs": [
    {
     "name": "stdout",
     "output_type": "stream",
     "text": [
      "(5, 5, 1, 4)\n"
     ]
    }
   ],
   "source": [
    "kernels = _create_kernels()\n",
    "print(kernels.shape)"
   ]
  },
  {
   "cell_type": "code",
   "execution_count": 44,
   "id": "3131d0dd",
   "metadata": {},
   "outputs": [
    {
     "name": "stdout",
     "output_type": "stream",
     "text": [
      "(1, 10, 10, 4)\n"
     ]
    },
    {
     "data": {
      "text/plain": [
       "True"
      ]
     },
     "execution_count": 44,
     "metadata": {},
     "output_type": "execute_result"
    }
   ],
   "source": [
    "import jax\n",
    "board = jax.random.randint(key=jax.random.PRNGKey(0),shape=(10,10),minval=0,maxval=2).astype(jnp.float32)\n",
    "boards = board[jnp.newaxis,:,:,jnp.newaxis]\n",
    "_check_win(boards,kernels)"
   ]
  },
  {
   "cell_type": "code",
   "execution_count": 5,
   "id": "48352ae0",
   "metadata": {},
   "outputs": [
    {
     "name": "stdout",
     "output_type": "stream",
     "text": [
      "all true\n"
     ]
    }
   ],
   "source": [
    "import jax.numpy as jnp\n",
    "\n",
    "arr =  jnp.array([[True,True],[True,True]])\n",
    "\n",
    "if jnp.all(arr):\n",
    "    print(\"all true\")\n",
    "else:\n",
    "    print(\"not all true\")"
   ]
  },
  {
   "cell_type": "code",
   "execution_count": 8,
   "id": "b72c1994",
   "metadata": {},
   "outputs": [
    {
     "data": {
      "text/plain": [
       "[[5, 7, 9], [6, 1, 2], [8, 0]]"
      ]
     },
     "execution_count": 8,
     "metadata": {},
     "output_type": "execute_result"
    }
   ],
   "source": [
    "import jax\n",
    "jax.tree.map(lambda x, y: [x] + y, [5, 6,8], [[7, 9], [1, 2],[0]])"
   ]
  },
  {
   "cell_type": "code",
   "execution_count": 23,
   "id": "408b7fcc",
   "metadata": {},
   "outputs": [
    {
     "data": {
      "text/plain": [
       "Array(True, dtype=bool)"
      ]
     },
     "execution_count": 23,
     "metadata": {},
     "output_type": "execute_result"
    }
   ],
   "source": [
    "import jax\n",
    "import jax.numpy as jnp\n",
    "from jax import lax\n",
    "\n",
    "WIN_LENGTH = 5\n",
    "\n",
    "def _create_kernels():\n",
    "    ones = jnp.ones((1, WIN_LENGTH), dtype=jnp.float32)\n",
    "    zeros = jnp.zeros((WIN_LENGTH - 1, WIN_LENGTH), dtype=jnp.float32)\n",
    "\n",
    "    horizontal = jnp.expand_dims(jnp.vstack([ones, zeros]), axis=(0, 1))\n",
    "    vertical = jnp.expand_dims(jnp.vstack([ones, zeros]).T, axis=(0, 1))\n",
    "    diagonal = jnp.expand_dims(jnp.eye(WIN_LENGTH, dtype=jnp.float32), axis=(0, 1))\n",
    "    anti_diagonal = jnp.expand_dims(jnp.fliplr(jnp.eye(WIN_LENGTH, dtype=jnp.float32)), axis=(0, 1))\n",
    "\n",
    "    kernels = jnp.concatenate([horizontal, vertical, diagonal, anti_diagonal], axis=0).transpose(2, 3, 1, 0)\n",
    "    return kernels\n",
    "\n",
    "def _check_win(arr,kernels):\n",
    "    \"\"\"\n",
    "    Checks if the current board state has a winning condition.\n",
    "    Uses convolution with predefined kernels.\n",
    "    Returns a JAX boolean (without using .item()).\n",
    "    \"\"\"\n",
    "    player_boards = (arr * -1)[jnp.newaxis, :, :, jnp.newaxis]\n",
    "    padding = ((WIN_LENGTH - 1, WIN_LENGTH - 1), (WIN_LENGTH - 1, WIN_LENGTH - 1))\n",
    "\n",
    "    conv_output = lax.conv_general_dilated(\n",
    "        player_boards,\n",
    "        kernels,\n",
    "        window_strides=(1, 1),\n",
    "        padding=padding,\n",
    "        dimension_numbers=('NHWC', 'HWIO', 'NHWC'),\n",
    "    )\n",
    "    win_condition = conv_output == WIN_LENGTH\n",
    "    win = jnp.any(win_condition)\n",
    "    return win  # Do not call .item(), just return the traced value\n",
    "\n",
    "\n",
    "arr = jnp.array([[-1.,  0.,  0.,  0.,  0. -1. -1. -1.  1.],\n",
    " [-1., -1., -1.,  0.,  1.,  1., -1.,  1.,  0.],\n",
    " [ 0.,  1.,  0.,  0., -1., -1., -1.,  1.,  0.],\n",
    " [-1.,  1., -1., -1.,  1., -1., -1.,  1.,  1.],\n",
    " [-1.,  1.,  1., -1., -1.,  1.,  1.,  0.,  0.],\n",
    " [ 1.  0.  1. -1.  1. -1.  1. -1.  0.]\n",
    " [-1.  1.  1.  1. -1.  1. -1.  1.  0.]\n",
    " [ 0.  1.  0.  1. -1. -1.  1.  1.  1.]\n",
    " [ 1.  0.  1. -1. -1. -1.  0.,  1.,  0.]])\n",
    "\n",
    "arr = arr.reshape(9,9)\n",
    "\n",
    "kernels = _create_kernels()\n",
    "\n",
    "\n",
    "_check_win(arr,kernels)\n",
    "\n",
    "\n",
    "\n",
    "\n",
    "\n",
    "\n",
    "\n",
    "\n",
    "\n",
    "\n",
    "\n",
    "\n"
   ]
  },
  {
   "cell_type": "code",
   "execution_count": null,
   "id": "f2e4f2bf",
   "metadata": {},
   "outputs": [],
   "source": []
  }
 ],
 "metadata": {
  "kernelspec": {
   "display_name": ".venv",
   "language": "python",
   "name": "python3"
  },
  "language_info": {
   "codemirror_mode": {
    "name": "ipython",
    "version": 3
   },
   "file_extension": ".py",
   "mimetype": "text/x-python",
   "name": "python",
   "nbconvert_exporter": "python",
   "pygments_lexer": "ipython3",
   "version": "3.12.8"
  }
 },
 "nbformat": 4,
 "nbformat_minor": 5
}
