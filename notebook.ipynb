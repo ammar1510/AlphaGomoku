{
 "cells": [
  {
   "cell_type": "code",
   "execution_count": null,
   "id": "c677988e",
   "metadata": {},
   "outputs": [],
   "source": [
    "import jax\n",
    "\n",
    "from jax import jit,lax,numpy as jnp\n",
    "\n",
    "@jit\n",
    "def discount_rewards(rewards, gamma):\n",
    "    \"\"\"\n",
    "    Calculate discounted rewards for batched trajectories.\n",
    "\n",
    "    Args:\n",
    "      rewards: a 2D jnp.array with shape (T, batch)\n",
    "      gamma: discount factor.\n",
    "\n",
    "    Returns:\n",
    "      A jnp.array of discounted rewards with the same shape as `rewards`.\n",
    "    \"\"\"\n",
    "\n",
    "    def discount_single(r):\n",
    "        def scan_fn(carry, reward):\n",
    "            new_carry = reward + gamma * carry\n",
    "            return new_carry, new_carry\n",
    "\n",
    "        _, discounted_reversed = lax.scan(scan_fn, 0.0, r[::-1])\n",
    "\n",
    "        return discounted_reversed[::-1]\n",
    "\n",
    "    discounted = jax.vmap(discount_single, in_axes=1, out_axes=1)(rewards)\n",
    "    \n",
    "    T = rewards.shape[0]\n",
    "    alternating_signs = jnp.power(-1.0, jnp.arange(T) % 2)\n",
    "    \n",
    "    return discounted * alternating_signs[:, None]\n"
   ]
  }
 ],
 "metadata": {
  "kernelspec": {
   "display_name": ".venv",
   "language": "python",
   "name": "python3"
  },
  "language_info": {
   "codemirror_mode": {
    "name": "ipython",
    "version": 3
   },
   "file_extension": ".py",
   "mimetype": "text/x-python",
   "name": "python",
   "nbconvert_exporter": "python",
   "pygments_lexer": "ipython3",
   "version": "3.12.8"
  }
 },
 "nbformat": 4,
 "nbformat_minor": 5
}
